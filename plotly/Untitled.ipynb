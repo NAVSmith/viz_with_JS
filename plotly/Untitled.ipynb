{
 "cells": [
  {
   "cell_type": "code",
   "execution_count": 75,
   "metadata": {},
   "outputs": [],
   "source": [
    "# Import the library\n",
    "import plotly as py\n",
    "# import pandas a set pandas plotting backend to plotly\n",
    "import pandas as pd\n",
    "pd.options.plotting.backend = 'plotly'"
   ]
  },
  {
   "cell_type": "code",
   "execution_count": 76,
   "metadata": {},
   "outputs": [],
   "source": [
    "import pandas as pd\n",
    "df = pd.read_csv('https://raw.githubusercontent.com/chumo/Data2Serve/master/transition_clusters.csv')"
   ]
  },
  {
   "cell_type": "code",
   "execution_count": 77,
   "metadata": {},
   "outputs": [],
   "source": [
    "# convert to tidy data"
   ]
  },
  {
   "cell_type": "code",
   "execution_count": 78,
   "metadata": {},
   "outputs": [
    {
     "data": {
      "text/html": [
       "<div>\n",
       "<style scoped>\n",
       "    .dataframe tbody tr th:only-of-type {\n",
       "        vertical-align: middle;\n",
       "    }\n",
       "\n",
       "    .dataframe tbody tr th {\n",
       "        vertical-align: top;\n",
       "    }\n",
       "\n",
       "    .dataframe thead th {\n",
       "        text-align: right;\n",
       "    }\n",
       "</style>\n",
       "<table border=\"1\" class=\"dataframe\">\n",
       "  <thead>\n",
       "    <tr style=\"text-align: right;\">\n",
       "      <th></th>\n",
       "      <th>Xi</th>\n",
       "      <th>Yi</th>\n",
       "      <th>Xf</th>\n",
       "      <th>Yf</th>\n",
       "      <th>color</th>\n",
       "    </tr>\n",
       "  </thead>\n",
       "  <tbody>\n",
       "    <tr>\n",
       "      <th>0</th>\n",
       "      <td>109.360643</td>\n",
       "      <td>434.557514</td>\n",
       "      <td>90.755847</td>\n",
       "      <td>171.363051</td>\n",
       "      <td>red</td>\n",
       "    </tr>\n",
       "    <tr>\n",
       "      <th>1</th>\n",
       "      <td>55.957358</td>\n",
       "      <td>438.934136</td>\n",
       "      <td>84.189607</td>\n",
       "      <td>182.890903</td>\n",
       "      <td>red</td>\n",
       "    </tr>\n",
       "    <tr>\n",
       "      <th>2</th>\n",
       "      <td>369.115969</td>\n",
       "      <td>419.904538</td>\n",
       "      <td>112.121845</td>\n",
       "      <td>144.288556</td>\n",
       "      <td>red</td>\n",
       "    </tr>\n",
       "    <tr>\n",
       "      <th>3</th>\n",
       "      <td>491.392739</td>\n",
       "      <td>492.316412</td>\n",
       "      <td>116.747266</td>\n",
       "      <td>170.049756</td>\n",
       "      <td>red</td>\n",
       "    </tr>\n",
       "    <tr>\n",
       "      <th>4</th>\n",
       "      <td>34.286602</td>\n",
       "      <td>404.017801</td>\n",
       "      <td>97.938407</td>\n",
       "      <td>181.777689</td>\n",
       "      <td>red</td>\n",
       "    </tr>\n",
       "  </tbody>\n",
       "</table>\n",
       "</div>"
      ],
      "text/plain": [
       "           Xi          Yi          Xf          Yf color\n",
       "0  109.360643  434.557514   90.755847  171.363051   red\n",
       "1   55.957358  438.934136   84.189607  182.890903   red\n",
       "2  369.115969  419.904538  112.121845  144.288556   red\n",
       "3  491.392739  492.316412  116.747266  170.049756   red\n",
       "4   34.286602  404.017801   97.938407  181.777689   red"
      ]
     },
     "execution_count": 78,
     "metadata": {},
     "output_type": "execute_result"
    }
   ],
   "source": [
    "df.head()"
   ]
  },
  {
   "cell_type": "code",
   "execution_count": 79,
   "metadata": {},
   "outputs": [],
   "source": [
    "df_init = df.copy()[['Xi', 'Yi', 'color']]\n",
    "df_fin = df.copy()[['Xf', 'Yf', 'color']]"
   ]
  },
  {
   "cell_type": "code",
   "execution_count": 80,
   "metadata": {},
   "outputs": [],
   "source": [
    "df_init.columns = ['y', 'x', 'color']\n",
    "df_init['intial'] = 1\n",
    "df_fin.columns = ['y', 'x', 'color']\n",
    "df_fin['intial'] = 0"
   ]
  },
  {
   "cell_type": "code",
   "execution_count": 81,
   "metadata": {},
   "outputs": [],
   "source": [
    "tidy_df = pd.concat([df_init, df_fin], axis=0).reset_index(drop=True)"
   ]
  },
  {
   "cell_type": "code",
   "execution_count": 82,
   "metadata": {},
   "outputs": [
    {
     "data": {
      "text/html": [
       "<div>\n",
       "<style scoped>\n",
       "    .dataframe tbody tr th:only-of-type {\n",
       "        vertical-align: middle;\n",
       "    }\n",
       "\n",
       "    .dataframe tbody tr th {\n",
       "        vertical-align: top;\n",
       "    }\n",
       "\n",
       "    .dataframe thead th {\n",
       "        text-align: right;\n",
       "    }\n",
       "</style>\n",
       "<table border=\"1\" class=\"dataframe\">\n",
       "  <thead>\n",
       "    <tr style=\"text-align: right;\">\n",
       "      <th></th>\n",
       "      <th>y</th>\n",
       "      <th>x</th>\n",
       "      <th>color</th>\n",
       "      <th>intial</th>\n",
       "    </tr>\n",
       "  </thead>\n",
       "  <tbody>\n",
       "    <tr>\n",
       "      <th>0</th>\n",
       "      <td>109.360643</td>\n",
       "      <td>434.557514</td>\n",
       "      <td>red</td>\n",
       "      <td>1</td>\n",
       "    </tr>\n",
       "    <tr>\n",
       "      <th>1</th>\n",
       "      <td>55.957358</td>\n",
       "      <td>438.934136</td>\n",
       "      <td>red</td>\n",
       "      <td>1</td>\n",
       "    </tr>\n",
       "    <tr>\n",
       "      <th>2</th>\n",
       "      <td>369.115969</td>\n",
       "      <td>419.904538</td>\n",
       "      <td>red</td>\n",
       "      <td>1</td>\n",
       "    </tr>\n",
       "    <tr>\n",
       "      <th>3</th>\n",
       "      <td>491.392739</td>\n",
       "      <td>492.316412</td>\n",
       "      <td>red</td>\n",
       "      <td>1</td>\n",
       "    </tr>\n",
       "    <tr>\n",
       "      <th>4</th>\n",
       "      <td>34.286602</td>\n",
       "      <td>404.017801</td>\n",
       "      <td>red</td>\n",
       "      <td>1</td>\n",
       "    </tr>\n",
       "    <tr>\n",
       "      <th>...</th>\n",
       "      <td>...</td>\n",
       "      <td>...</td>\n",
       "      <td>...</td>\n",
       "      <td>...</td>\n",
       "    </tr>\n",
       "    <tr>\n",
       "      <th>175</th>\n",
       "      <td>298.802341</td>\n",
       "      <td>149.868698</td>\n",
       "      <td>blue</td>\n",
       "      <td>0</td>\n",
       "    </tr>\n",
       "    <tr>\n",
       "      <th>176</th>\n",
       "      <td>322.576822</td>\n",
       "      <td>108.178118</td>\n",
       "      <td>blue</td>\n",
       "      <td>0</td>\n",
       "    </tr>\n",
       "    <tr>\n",
       "      <th>177</th>\n",
       "      <td>293.644438</td>\n",
       "      <td>130.646623</td>\n",
       "      <td>blue</td>\n",
       "      <td>0</td>\n",
       "    </tr>\n",
       "    <tr>\n",
       "      <th>178</th>\n",
       "      <td>304.092241</td>\n",
       "      <td>91.984033</td>\n",
       "      <td>blue</td>\n",
       "      <td>0</td>\n",
       "    </tr>\n",
       "    <tr>\n",
       "      <th>179</th>\n",
       "      <td>320.828650</td>\n",
       "      <td>119.716195</td>\n",
       "      <td>blue</td>\n",
       "      <td>0</td>\n",
       "    </tr>\n",
       "  </tbody>\n",
       "</table>\n",
       "<p>180 rows × 4 columns</p>\n",
       "</div>"
      ],
      "text/plain": [
       "              y           x color  intial\n",
       "0    109.360643  434.557514   red       1\n",
       "1     55.957358  438.934136   red       1\n",
       "2    369.115969  419.904538   red       1\n",
       "3    491.392739  492.316412   red       1\n",
       "4     34.286602  404.017801   red       1\n",
       "..          ...         ...   ...     ...\n",
       "175  298.802341  149.868698  blue       0\n",
       "176  322.576822  108.178118  blue       0\n",
       "177  293.644438  130.646623  blue       0\n",
       "178  304.092241   91.984033  blue       0\n",
       "179  320.828650  119.716195  blue       0\n",
       "\n",
       "[180 rows x 4 columns]"
      ]
     },
     "execution_count": 82,
     "metadata": {},
     "output_type": "execute_result"
    }
   ],
   "source": [
    "tidy_df"
   ]
  },
  {
   "cell_type": "code",
   "execution_count": 83,
   "metadata": {},
   "outputs": [
    {
     "data": {
      "application/vnd.plotly.v1+json": {
       "config": {
        "plotlyServerURL": "https://plot.ly"
       },
       "data": [
        {
         "hovertemplate": "color=red<br>intial=1<br>x=%{x}<br>y=%{y}<extra></extra>",
         "legendgroup": "red",
         "marker": {
          "color": "#636efa",
          "symbol": "circle"
         },
         "mode": "markers",
         "name": "red",
         "orientation": "v",
         "showlegend": true,
         "type": "scatter",
         "x": [
          434.55751371019477,
          438.934136212734,
          419.90453774636,
          492.31641190754,
          404.01780054047015,
          135.20651640033077,
          76.43408294214038,
          353.06990207008164,
          366.6811613734512,
          145.59642688419657,
          314.04026011357934,
          16.355147337662135,
          424.5626355561188,
          172.9960448855888,
          476.8481791032582,
          9.151688287125868,
          75.31440348436664,
          149.03070133546439,
          205.395164650859,
          16.20310780180001,
          1.6427669520882038,
          68.01981026325987,
          275.344710961698,
          199.06883062851196,
          400.40342331580706,
          294.2144788327755,
          404.5462234154833,
          475.46301903677255,
          291.29756057409304,
          63.424316825181855
         ],
         "xaxis": "x",
         "y": [
          109.36064277774466,
          55.95735794900907,
          369.1159692686163,
          491.3927390873703,
          34.286601741833785,
          316.6157031813405,
          265.5907432464507,
          430.73261675172614,
          60.99739655005153,
          189.8583139661716,
          304.39566027156826,
          400.09145406755584,
          70.89943133703758,
          198.6847865725222,
          179.48252978440414,
          250.78207193262628,
          430.81243126591187,
          413.83768817585985,
          276.22183151368324,
          471.4185727690705,
          154.6045405211059,
          182.1489173971974,
          101.51550150251032,
          121.37445607817648,
          44.976967759804815,
          384.5840894190522,
          17.785078725646166,
          202.3047727105588,
          325.37924405603377,
          192.17782462920928
         ],
         "yaxis": "y"
        },
        {
         "hovertemplate": "color=red<br>intial=0<br>x=%{x}<br>y=%{y}<extra></extra>",
         "legendgroup": "red",
         "marker": {
          "color": "#636efa",
          "symbol": "circle"
         },
         "mode": "markers",
         "name": "red",
         "orientation": "v",
         "showlegend": false,
         "type": "scatter",
         "x": [
          171.36305145599832,
          182.8909026601121,
          144.2885557461066,
          170.04975633076566,
          181.777689320059,
          154.6404977893314,
          172.1955609914016,
          160.08140705574297,
          179.7578317983617,
          142.919023074974,
          213.0727175617316,
          149.3466941985945,
          166.09376036653245,
          161.658642978131,
          180.88518921787647,
          181.8107826798447,
          186.1150797054459,
          205.33817851170383,
          154.85496148836398,
          174.75143976043174,
          176.1055854257733,
          181.89675587226427,
          151.5701268215669,
          174.46339721268745,
          168.15766712015002,
          176.1022108019683,
          175.37049869445522,
          199.35721767489486,
          154.21001042247926,
          205.26424796444385
         ],
         "xaxis": "x2",
         "y": [
          90.75584668916012,
          84.1896066497078,
          112.12184474773792,
          116.74726615961323,
          97.93840664961658,
          104.02750275651955,
          86.56590016261661,
          106.34273632022268,
          112.80106451084309,
          113.04824126792809,
          59.386767170530256,
          106.10932283309396,
          102.67390108356308,
          110.43346092247242,
          107.42325016129485,
          96.30033742380958,
          119.5110160447247,
          104.4038560207679,
          145.01868752328159,
          60.72706173856358,
          83.66906400139905,
          97.835562279214,
          93.2484444136512,
          107.17445860631041,
          113.62329497033896,
          105.99568137761351,
          97.0551928335592,
          79.4324614192561,
          96.73176023955557,
          85.18970242949561
         ],
         "yaxis": "y2"
        },
        {
         "hovertemplate": "color=green<br>intial=1<br>x=%{x}<br>y=%{y}<extra></extra>",
         "legendgroup": "green",
         "marker": {
          "color": "#EF553B",
          "symbol": "circle"
         },
         "mode": "markers",
         "name": "green",
         "orientation": "v",
         "showlegend": true,
         "type": "scatter",
         "x": [
          104.20928384906874,
          197.45650453002045,
          1.2673484583733408,
          133.55354658127578,
          187.87410883221213,
          263.8216233527437,
          92.32633220423908,
          36.05695577692508,
          238.78424978295962,
          15.547806139596775,
          93.09094443995569,
          381.53962632414436,
          134.3486308145409,
          370.3131490243602,
          381.8351595981522,
          395.94675451757723,
          87.3803483648762,
          410.7441644190258,
          4.250556647049764,
          374.5355743859543,
          446.2929603855296,
          385.9204024973217,
          131.08575300066715,
          209.4484421767524,
          250.52492723417362,
          452.03645687911165,
          29.59542632523349,
          474.5961230905788,
          407.53419780455147,
          284.37238651357865
         ],
         "xaxis": "x",
         "y": [
          448.90043797430536,
          257.4725849775301,
          322.8359508806838,
          115.3332715735205,
          134.40669389692772,
          436.76382681064115,
          99.03644773076492,
          46.39683168034886,
          448.18607191014155,
          466.3252762917248,
          15.503517136157274,
          22.925982873215734,
          400.3732370778019,
          361.5987790169701,
          275.3846281417486,
          190.98489367857889,
          333.12519974507194,
          302.38009015926633,
          326.355470932698,
          295.50554398883395,
          438.73550735083575,
          54.37370965175364,
          201.3683556690127,
          389.0690491359697,
          166.6925157846014,
          245.07176095355481,
          246.66442491392345,
          390.137035595907,
          117.93499204266195,
          318.4083561297176
         ],
         "yaxis": "y"
        },
        {
         "hovertemplate": "color=green<br>intial=0<br>x=%{x}<br>y=%{y}<extra></extra>",
         "legendgroup": "green",
         "marker": {
          "color": "#EF553B",
          "symbol": "circle"
         },
         "mode": "markers",
         "name": "green",
         "orientation": "v",
         "showlegend": false,
         "type": "scatter",
         "x": [
          338.515162590575,
          301.75663044274836,
          279.8278967010393,
          327.23430560364983,
          295.37012964756264,
          332.9711076906101,
          311.36263928688714,
          328.0405751895687,
          317.67365492555786,
          334.89880107541376,
          337.639930338434,
          315.6740535797863,
          344.5445501130185,
          337.00669188462604,
          342.682671445092,
          316.07576189968836,
          339.5826248232415,
          310.26541371470506,
          312.27460040777044,
          357.96155828815284,
          336.9949033978265,
          341.4716879702023,
          315.6149840460731,
          351.85873209260063,
          317.5303176603673,
          333.2321713527934,
          295.01509218068287,
          310.01469037793726,
          351.0723018636541,
          314.1289396454004
         ],
         "xaxis": "x2",
         "y": [
          224.86035596607186,
          223.221163418267,
          197.9557160667931,
          255.93232536195598,
          214.48537323066242,
          251.35538297180503,
          229.95081868939343,
          250.1196723074273,
          227.89194135533276,
          226.97419906119976,
          211.4453536178937,
          217.6642513181342,
          200.00196517027786,
          242.92811322188442,
          238.4417183842289,
          216.20331880568418,
          246.3447542337889,
          229.1326576273109,
          191.0097281545669,
          232.27542756107465,
          259.51325471414407,
          201.3804794068146,
          220.49650692135867,
          245.56824891509387,
          225.20643806671558,
          226.0874507015087,
          194.8695355706552,
          209.59200707541237,
          219.32177892327343,
          223.86231709191773
         ],
         "yaxis": "y2"
        },
        {
         "hovertemplate": "color=blue<br>intial=1<br>x=%{x}<br>y=%{y}<extra></extra>",
         "legendgroup": "blue",
         "marker": {
          "color": "#00cc96",
          "symbol": "circle"
         },
         "mode": "markers",
         "name": "blue",
         "orientation": "v",
         "showlegend": true,
         "type": "scatter",
         "x": [
          389.99345549068437,
          249.35877190642964,
          292.99024137927836,
          324.0055568785401,
          173.99026936940166,
          287.11302973746945,
          67.51263314881234,
          276.77239636801164,
          59.75465989430728,
          469.58446073825485,
          240.7580431588994,
          227.8814595509726,
          211.97324738462157,
          420.96423928048205,
          395.6229048037571,
          364.84358296944674,
          183.74633439085684,
          104.34213797760216,
          473.01425497446564,
          340.27310208090864,
          422.8072647869326,
          131.8592470246362,
          213.7969518433474,
          489.9300865335125,
          490.0592872062882,
          414.8182502080759,
          477.1330215811223,
          460.1641100598762,
          210.7477910553088,
          290.31986816586533
         ],
         "xaxis": "x",
         "y": [
          402.9870614918566,
          343.35496511066964,
          100.18774132742986,
          40.70011620714242,
          173.73023707794258,
          487.414215972548,
          376.41582568761686,
          209.84866823469955,
          205.21287420012214,
          70.53979794123597,
          136.57328794984966,
          355.56087755755783,
          337.55892562561286,
          201.5601303134281,
          232.03400517413417,
          279.603893607315,
          431.3055768157842,
          391.70725731995964,
          392.60180992357283,
          66.31059098190029,
          261.71256960346517,
          187.9117047546546,
          243.4869066237743,
          75.07404368759623,
          340.1490150780134,
          403.21422223280223,
          167.74955673727248,
          333.5307873733313,
          415.1987717160697,
          24.273453247350307
         ],
         "yaxis": "y"
        },
        {
         "hovertemplate": "color=blue<br>intial=0<br>x=%{x}<br>y=%{y}<extra></extra>",
         "legendgroup": "blue",
         "marker": {
          "color": "#00cc96",
          "symbol": "circle"
         },
         "mode": "markers",
         "name": "blue",
         "orientation": "v",
         "showlegend": false,
         "type": "scatter",
         "x": [
          144.8466066985989,
          125.15385180358182,
          116.24937081600063,
          161.04880587813562,
          143.0892810879779,
          128.02239164550275,
          165.7166488675584,
          137.32629834956057,
          117.59284806415651,
          137.59903786965106,
          136.69964690094636,
          103.09562841723415,
          100.93690168009128,
          101.01580853903258,
          99.51243912114737,
          107.80242593318808,
          127.08414791285904,
          163.91273130923838,
          124.10982572043359,
          128.97725975495507,
          138.37372455427266,
          162.7882268003007,
          124.54083039297836,
          97.89390785294714,
          89.11589096602802,
          149.8686982543653,
          108.1781180270076,
          130.64662308700736,
          91.98403273142249,
          119.71619543917214
         ],
         "xaxis": "x2",
         "y": [
          278.953089018564,
          310.99044591232143,
          300.18822736988164,
          327.95592607094426,
          281.0914330077054,
          284.23817234676693,
          306.94120819938587,
          334.0471234082148,
          315.34819875906504,
          340.53298769523127,
          302.5938916079953,
          332.5097215783313,
          322.0355997015,
          323.20372337085803,
          317.54531697960056,
          336.97011206313107,
          294.48766621773257,
          297.2236164280178,
          295.84872722280954,
          311.394278023762,
          323.39535982286543,
          289.8241459700507,
          306.48816268112165,
          284.3088986586671,
          289.8945248480923,
          298.8023407282143,
          322.5768223512296,
          293.64443800718675,
          304.09224097284283,
          320.8286498685931
         ],
         "yaxis": "y2"
        }
       ],
       "layout": {
        "annotations": [
         {
          "font": {},
          "showarrow": false,
          "text": "intial=1",
          "x": 0.245,
          "xanchor": "center",
          "xref": "paper",
          "y": 1,
          "yanchor": "bottom",
          "yref": "paper"
         },
         {
          "font": {},
          "showarrow": false,
          "text": "intial=0",
          "x": 0.755,
          "xanchor": "center",
          "xref": "paper",
          "y": 1,
          "yanchor": "bottom",
          "yref": "paper"
         }
        ],
        "legend": {
         "title": {
          "text": "color"
         },
         "tracegroupgap": 0
        },
        "margin": {
         "t": 60
        },
        "template": {
         "data": {
          "bar": [
           {
            "error_x": {
             "color": "#2a3f5f"
            },
            "error_y": {
             "color": "#2a3f5f"
            },
            "marker": {
             "line": {
              "color": "#E5ECF6",
              "width": 0.5
             }
            },
            "type": "bar"
           }
          ],
          "barpolar": [
           {
            "marker": {
             "line": {
              "color": "#E5ECF6",
              "width": 0.5
             }
            },
            "type": "barpolar"
           }
          ],
          "carpet": [
           {
            "aaxis": {
             "endlinecolor": "#2a3f5f",
             "gridcolor": "white",
             "linecolor": "white",
             "minorgridcolor": "white",
             "startlinecolor": "#2a3f5f"
            },
            "baxis": {
             "endlinecolor": "#2a3f5f",
             "gridcolor": "white",
             "linecolor": "white",
             "minorgridcolor": "white",
             "startlinecolor": "#2a3f5f"
            },
            "type": "carpet"
           }
          ],
          "choropleth": [
           {
            "colorbar": {
             "outlinewidth": 0,
             "ticks": ""
            },
            "type": "choropleth"
           }
          ],
          "contour": [
           {
            "colorbar": {
             "outlinewidth": 0,
             "ticks": ""
            },
            "colorscale": [
             [
              0,
              "#0d0887"
             ],
             [
              0.1111111111111111,
              "#46039f"
             ],
             [
              0.2222222222222222,
              "#7201a8"
             ],
             [
              0.3333333333333333,
              "#9c179e"
             ],
             [
              0.4444444444444444,
              "#bd3786"
             ],
             [
              0.5555555555555556,
              "#d8576b"
             ],
             [
              0.6666666666666666,
              "#ed7953"
             ],
             [
              0.7777777777777778,
              "#fb9f3a"
             ],
             [
              0.8888888888888888,
              "#fdca26"
             ],
             [
              1,
              "#f0f921"
             ]
            ],
            "type": "contour"
           }
          ],
          "contourcarpet": [
           {
            "colorbar": {
             "outlinewidth": 0,
             "ticks": ""
            },
            "type": "contourcarpet"
           }
          ],
          "heatmap": [
           {
            "colorbar": {
             "outlinewidth": 0,
             "ticks": ""
            },
            "colorscale": [
             [
              0,
              "#0d0887"
             ],
             [
              0.1111111111111111,
              "#46039f"
             ],
             [
              0.2222222222222222,
              "#7201a8"
             ],
             [
              0.3333333333333333,
              "#9c179e"
             ],
             [
              0.4444444444444444,
              "#bd3786"
             ],
             [
              0.5555555555555556,
              "#d8576b"
             ],
             [
              0.6666666666666666,
              "#ed7953"
             ],
             [
              0.7777777777777778,
              "#fb9f3a"
             ],
             [
              0.8888888888888888,
              "#fdca26"
             ],
             [
              1,
              "#f0f921"
             ]
            ],
            "type": "heatmap"
           }
          ],
          "heatmapgl": [
           {
            "colorbar": {
             "outlinewidth": 0,
             "ticks": ""
            },
            "colorscale": [
             [
              0,
              "#0d0887"
             ],
             [
              0.1111111111111111,
              "#46039f"
             ],
             [
              0.2222222222222222,
              "#7201a8"
             ],
             [
              0.3333333333333333,
              "#9c179e"
             ],
             [
              0.4444444444444444,
              "#bd3786"
             ],
             [
              0.5555555555555556,
              "#d8576b"
             ],
             [
              0.6666666666666666,
              "#ed7953"
             ],
             [
              0.7777777777777778,
              "#fb9f3a"
             ],
             [
              0.8888888888888888,
              "#fdca26"
             ],
             [
              1,
              "#f0f921"
             ]
            ],
            "type": "heatmapgl"
           }
          ],
          "histogram": [
           {
            "marker": {
             "colorbar": {
              "outlinewidth": 0,
              "ticks": ""
             }
            },
            "type": "histogram"
           }
          ],
          "histogram2d": [
           {
            "colorbar": {
             "outlinewidth": 0,
             "ticks": ""
            },
            "colorscale": [
             [
              0,
              "#0d0887"
             ],
             [
              0.1111111111111111,
              "#46039f"
             ],
             [
              0.2222222222222222,
              "#7201a8"
             ],
             [
              0.3333333333333333,
              "#9c179e"
             ],
             [
              0.4444444444444444,
              "#bd3786"
             ],
             [
              0.5555555555555556,
              "#d8576b"
             ],
             [
              0.6666666666666666,
              "#ed7953"
             ],
             [
              0.7777777777777778,
              "#fb9f3a"
             ],
             [
              0.8888888888888888,
              "#fdca26"
             ],
             [
              1,
              "#f0f921"
             ]
            ],
            "type": "histogram2d"
           }
          ],
          "histogram2dcontour": [
           {
            "colorbar": {
             "outlinewidth": 0,
             "ticks": ""
            },
            "colorscale": [
             [
              0,
              "#0d0887"
             ],
             [
              0.1111111111111111,
              "#46039f"
             ],
             [
              0.2222222222222222,
              "#7201a8"
             ],
             [
              0.3333333333333333,
              "#9c179e"
             ],
             [
              0.4444444444444444,
              "#bd3786"
             ],
             [
              0.5555555555555556,
              "#d8576b"
             ],
             [
              0.6666666666666666,
              "#ed7953"
             ],
             [
              0.7777777777777778,
              "#fb9f3a"
             ],
             [
              0.8888888888888888,
              "#fdca26"
             ],
             [
              1,
              "#f0f921"
             ]
            ],
            "type": "histogram2dcontour"
           }
          ],
          "mesh3d": [
           {
            "colorbar": {
             "outlinewidth": 0,
             "ticks": ""
            },
            "type": "mesh3d"
           }
          ],
          "parcoords": [
           {
            "line": {
             "colorbar": {
              "outlinewidth": 0,
              "ticks": ""
             }
            },
            "type": "parcoords"
           }
          ],
          "pie": [
           {
            "automargin": true,
            "type": "pie"
           }
          ],
          "scatter": [
           {
            "marker": {
             "colorbar": {
              "outlinewidth": 0,
              "ticks": ""
             }
            },
            "type": "scatter"
           }
          ],
          "scatter3d": [
           {
            "line": {
             "colorbar": {
              "outlinewidth": 0,
              "ticks": ""
             }
            },
            "marker": {
             "colorbar": {
              "outlinewidth": 0,
              "ticks": ""
             }
            },
            "type": "scatter3d"
           }
          ],
          "scattercarpet": [
           {
            "marker": {
             "colorbar": {
              "outlinewidth": 0,
              "ticks": ""
             }
            },
            "type": "scattercarpet"
           }
          ],
          "scattergeo": [
           {
            "marker": {
             "colorbar": {
              "outlinewidth": 0,
              "ticks": ""
             }
            },
            "type": "scattergeo"
           }
          ],
          "scattergl": [
           {
            "marker": {
             "colorbar": {
              "outlinewidth": 0,
              "ticks": ""
             }
            },
            "type": "scattergl"
           }
          ],
          "scattermapbox": [
           {
            "marker": {
             "colorbar": {
              "outlinewidth": 0,
              "ticks": ""
             }
            },
            "type": "scattermapbox"
           }
          ],
          "scatterpolar": [
           {
            "marker": {
             "colorbar": {
              "outlinewidth": 0,
              "ticks": ""
             }
            },
            "type": "scatterpolar"
           }
          ],
          "scatterpolargl": [
           {
            "marker": {
             "colorbar": {
              "outlinewidth": 0,
              "ticks": ""
             }
            },
            "type": "scatterpolargl"
           }
          ],
          "scatterternary": [
           {
            "marker": {
             "colorbar": {
              "outlinewidth": 0,
              "ticks": ""
             }
            },
            "type": "scatterternary"
           }
          ],
          "surface": [
           {
            "colorbar": {
             "outlinewidth": 0,
             "ticks": ""
            },
            "colorscale": [
             [
              0,
              "#0d0887"
             ],
             [
              0.1111111111111111,
              "#46039f"
             ],
             [
              0.2222222222222222,
              "#7201a8"
             ],
             [
              0.3333333333333333,
              "#9c179e"
             ],
             [
              0.4444444444444444,
              "#bd3786"
             ],
             [
              0.5555555555555556,
              "#d8576b"
             ],
             [
              0.6666666666666666,
              "#ed7953"
             ],
             [
              0.7777777777777778,
              "#fb9f3a"
             ],
             [
              0.8888888888888888,
              "#fdca26"
             ],
             [
              1,
              "#f0f921"
             ]
            ],
            "type": "surface"
           }
          ],
          "table": [
           {
            "cells": {
             "fill": {
              "color": "#EBF0F8"
             },
             "line": {
              "color": "white"
             }
            },
            "header": {
             "fill": {
              "color": "#C8D4E3"
             },
             "line": {
              "color": "white"
             }
            },
            "type": "table"
           }
          ]
         },
         "layout": {
          "annotationdefaults": {
           "arrowcolor": "#2a3f5f",
           "arrowhead": 0,
           "arrowwidth": 1
          },
          "coloraxis": {
           "colorbar": {
            "outlinewidth": 0,
            "ticks": ""
           }
          },
          "colorscale": {
           "diverging": [
            [
             0,
             "#8e0152"
            ],
            [
             0.1,
             "#c51b7d"
            ],
            [
             0.2,
             "#de77ae"
            ],
            [
             0.3,
             "#f1b6da"
            ],
            [
             0.4,
             "#fde0ef"
            ],
            [
             0.5,
             "#f7f7f7"
            ],
            [
             0.6,
             "#e6f5d0"
            ],
            [
             0.7,
             "#b8e186"
            ],
            [
             0.8,
             "#7fbc41"
            ],
            [
             0.9,
             "#4d9221"
            ],
            [
             1,
             "#276419"
            ]
           ],
           "sequential": [
            [
             0,
             "#0d0887"
            ],
            [
             0.1111111111111111,
             "#46039f"
            ],
            [
             0.2222222222222222,
             "#7201a8"
            ],
            [
             0.3333333333333333,
             "#9c179e"
            ],
            [
             0.4444444444444444,
             "#bd3786"
            ],
            [
             0.5555555555555556,
             "#d8576b"
            ],
            [
             0.6666666666666666,
             "#ed7953"
            ],
            [
             0.7777777777777778,
             "#fb9f3a"
            ],
            [
             0.8888888888888888,
             "#fdca26"
            ],
            [
             1,
             "#f0f921"
            ]
           ],
           "sequentialminus": [
            [
             0,
             "#0d0887"
            ],
            [
             0.1111111111111111,
             "#46039f"
            ],
            [
             0.2222222222222222,
             "#7201a8"
            ],
            [
             0.3333333333333333,
             "#9c179e"
            ],
            [
             0.4444444444444444,
             "#bd3786"
            ],
            [
             0.5555555555555556,
             "#d8576b"
            ],
            [
             0.6666666666666666,
             "#ed7953"
            ],
            [
             0.7777777777777778,
             "#fb9f3a"
            ],
            [
             0.8888888888888888,
             "#fdca26"
            ],
            [
             1,
             "#f0f921"
            ]
           ]
          },
          "colorway": [
           "#636efa",
           "#EF553B",
           "#00cc96",
           "#ab63fa",
           "#FFA15A",
           "#19d3f3",
           "#FF6692",
           "#B6E880",
           "#FF97FF",
           "#FECB52"
          ],
          "font": {
           "color": "#2a3f5f"
          },
          "geo": {
           "bgcolor": "white",
           "lakecolor": "white",
           "landcolor": "#E5ECF6",
           "showlakes": true,
           "showland": true,
           "subunitcolor": "white"
          },
          "hoverlabel": {
           "align": "left"
          },
          "hovermode": "closest",
          "mapbox": {
           "style": "light"
          },
          "paper_bgcolor": "white",
          "plot_bgcolor": "#E5ECF6",
          "polar": {
           "angularaxis": {
            "gridcolor": "white",
            "linecolor": "white",
            "ticks": ""
           },
           "bgcolor": "#E5ECF6",
           "radialaxis": {
            "gridcolor": "white",
            "linecolor": "white",
            "ticks": ""
           }
          },
          "scene": {
           "xaxis": {
            "backgroundcolor": "#E5ECF6",
            "gridcolor": "white",
            "gridwidth": 2,
            "linecolor": "white",
            "showbackground": true,
            "ticks": "",
            "zerolinecolor": "white"
           },
           "yaxis": {
            "backgroundcolor": "#E5ECF6",
            "gridcolor": "white",
            "gridwidth": 2,
            "linecolor": "white",
            "showbackground": true,
            "ticks": "",
            "zerolinecolor": "white"
           },
           "zaxis": {
            "backgroundcolor": "#E5ECF6",
            "gridcolor": "white",
            "gridwidth": 2,
            "linecolor": "white",
            "showbackground": true,
            "ticks": "",
            "zerolinecolor": "white"
           }
          },
          "shapedefaults": {
           "line": {
            "color": "#2a3f5f"
           }
          },
          "ternary": {
           "aaxis": {
            "gridcolor": "white",
            "linecolor": "white",
            "ticks": ""
           },
           "baxis": {
            "gridcolor": "white",
            "linecolor": "white",
            "ticks": ""
           },
           "bgcolor": "#E5ECF6",
           "caxis": {
            "gridcolor": "white",
            "linecolor": "white",
            "ticks": ""
           }
          },
          "title": {
           "x": 0.05
          },
          "xaxis": {
           "automargin": true,
           "gridcolor": "white",
           "linecolor": "white",
           "ticks": "",
           "title": {
            "standoff": 15
           },
           "zerolinecolor": "white",
           "zerolinewidth": 2
          },
          "yaxis": {
           "automargin": true,
           "gridcolor": "white",
           "linecolor": "white",
           "ticks": "",
           "title": {
            "standoff": 15
           },
           "zerolinecolor": "white",
           "zerolinewidth": 2
          }
         }
        },
        "xaxis": {
         "anchor": "y",
         "domain": [
          0,
          0.49
         ],
         "title": {
          "text": "x"
         }
        },
        "xaxis2": {
         "anchor": "y2",
         "domain": [
          0.51,
          1
         ],
         "matches": "x",
         "title": {
          "text": "x"
         }
        },
        "yaxis": {
         "anchor": "x",
         "domain": [
          0,
          1
         ],
         "title": {
          "text": "y"
         }
        },
        "yaxis2": {
         "anchor": "x2",
         "domain": [
          0,
          1
         ],
         "matches": "y",
         "showticklabels": false
        }
       }
      },
      "text/html": [
       "<div>\n",
       "        \n",
       "        \n",
       "            <div id=\"d19d1967-912a-4c58-850c-9e84c895b01e\" class=\"plotly-graph-div\" style=\"height:525px; width:100%;\"></div>\n",
       "            <script type=\"text/javascript\">\n",
       "                require([\"plotly\"], function(Plotly) {\n",
       "                    window.PLOTLYENV=window.PLOTLYENV || {};\n",
       "                    \n",
       "                if (document.getElementById(\"d19d1967-912a-4c58-850c-9e84c895b01e\")) {\n",
       "                    Plotly.newPlot(\n",
       "                        'd19d1967-912a-4c58-850c-9e84c895b01e',\n",
       "                        [{\"hovertemplate\": \"color=red<br>intial=1<br>x=%{x}<br>y=%{y}<extra></extra>\", \"legendgroup\": \"red\", \"marker\": {\"color\": \"#636efa\", \"symbol\": \"circle\"}, \"mode\": \"markers\", \"name\": \"red\", \"orientation\": \"v\", \"showlegend\": true, \"type\": \"scatter\", \"x\": [434.55751371019477, 438.934136212734, 419.90453774636, 492.31641190754, 404.01780054047015, 135.20651640033077, 76.43408294214038, 353.06990207008164, 366.6811613734512, 145.59642688419657, 314.04026011357934, 16.355147337662135, 424.5626355561188, 172.9960448855888, 476.8481791032582, 9.151688287125868, 75.31440348436664, 149.03070133546439, 205.395164650859, 16.20310780180001, 1.6427669520882038, 68.01981026325987, 275.344710961698, 199.06883062851196, 400.40342331580706, 294.2144788327755, 404.5462234154833, 475.46301903677255, 291.29756057409304, 63.424316825181855], \"xaxis\": \"x\", \"y\": [109.36064277774466, 55.95735794900907, 369.1159692686163, 491.3927390873703, 34.286601741833785, 316.6157031813405, 265.5907432464507, 430.73261675172614, 60.99739655005153, 189.8583139661716, 304.39566027156826, 400.09145406755584, 70.89943133703758, 198.6847865725222, 179.48252978440414, 250.78207193262628, 430.81243126591187, 413.83768817585985, 276.22183151368324, 471.4185727690705, 154.6045405211059, 182.1489173971974, 101.51550150251032, 121.37445607817648, 44.976967759804815, 384.5840894190522, 17.785078725646166, 202.3047727105588, 325.37924405603377, 192.17782462920928], \"yaxis\": \"y\"}, {\"hovertemplate\": \"color=red<br>intial=0<br>x=%{x}<br>y=%{y}<extra></extra>\", \"legendgroup\": \"red\", \"marker\": {\"color\": \"#636efa\", \"symbol\": \"circle\"}, \"mode\": \"markers\", \"name\": \"red\", \"orientation\": \"v\", \"showlegend\": false, \"type\": \"scatter\", \"x\": [171.36305145599832, 182.8909026601121, 144.2885557461066, 170.04975633076566, 181.777689320059, 154.6404977893314, 172.1955609914016, 160.08140705574297, 179.7578317983617, 142.919023074974, 213.0727175617316, 149.3466941985945, 166.09376036653245, 161.658642978131, 180.88518921787647, 181.8107826798447, 186.1150797054459, 205.33817851170383, 154.85496148836398, 174.75143976043174, 176.1055854257733, 181.89675587226427, 151.5701268215669, 174.46339721268745, 168.15766712015002, 176.1022108019683, 175.37049869445522, 199.35721767489486, 154.21001042247926, 205.26424796444385], \"xaxis\": \"x2\", \"y\": [90.75584668916012, 84.1896066497078, 112.12184474773792, 116.74726615961323, 97.93840664961658, 104.02750275651955, 86.56590016261661, 106.34273632022268, 112.80106451084309, 113.04824126792809, 59.386767170530256, 106.10932283309396, 102.67390108356308, 110.43346092247242, 107.42325016129485, 96.30033742380958, 119.5110160447247, 104.4038560207679, 145.01868752328159, 60.72706173856358, 83.66906400139905, 97.835562279214, 93.2484444136512, 107.17445860631041, 113.62329497033896, 105.99568137761351, 97.0551928335592, 79.4324614192561, 96.73176023955557, 85.18970242949561], \"yaxis\": \"y2\"}, {\"hovertemplate\": \"color=green<br>intial=1<br>x=%{x}<br>y=%{y}<extra></extra>\", \"legendgroup\": \"green\", \"marker\": {\"color\": \"#EF553B\", \"symbol\": \"circle\"}, \"mode\": \"markers\", \"name\": \"green\", \"orientation\": \"v\", \"showlegend\": true, \"type\": \"scatter\", \"x\": [104.20928384906874, 197.45650453002045, 1.2673484583733408, 133.55354658127578, 187.87410883221213, 263.8216233527437, 92.32633220423908, 36.05695577692508, 238.78424978295962, 15.547806139596775, 93.09094443995569, 381.53962632414436, 134.3486308145409, 370.3131490243602, 381.8351595981522, 395.94675451757723, 87.3803483648762, 410.7441644190258, 4.250556647049764, 374.5355743859543, 446.2929603855296, 385.9204024973217, 131.08575300066715, 209.4484421767524, 250.52492723417362, 452.03645687911165, 29.59542632523349, 474.5961230905788, 407.53419780455147, 284.37238651357865], \"xaxis\": \"x\", \"y\": [448.90043797430536, 257.4725849775301, 322.8359508806838, 115.3332715735205, 134.40669389692772, 436.76382681064115, 99.03644773076492, 46.39683168034886, 448.18607191014155, 466.3252762917248, 15.503517136157274, 22.925982873215734, 400.3732370778019, 361.5987790169701, 275.3846281417486, 190.98489367857889, 333.12519974507194, 302.38009015926633, 326.355470932698, 295.50554398883395, 438.73550735083575, 54.37370965175364, 201.3683556690127, 389.0690491359697, 166.6925157846014, 245.07176095355481, 246.66442491392345, 390.137035595907, 117.93499204266195, 318.4083561297176], \"yaxis\": \"y\"}, {\"hovertemplate\": \"color=green<br>intial=0<br>x=%{x}<br>y=%{y}<extra></extra>\", \"legendgroup\": \"green\", \"marker\": {\"color\": \"#EF553B\", \"symbol\": \"circle\"}, \"mode\": \"markers\", \"name\": \"green\", \"orientation\": \"v\", \"showlegend\": false, \"type\": \"scatter\", \"x\": [338.515162590575, 301.75663044274836, 279.8278967010393, 327.23430560364983, 295.37012964756264, 332.9711076906101, 311.36263928688714, 328.0405751895687, 317.67365492555786, 334.89880107541376, 337.639930338434, 315.6740535797863, 344.5445501130185, 337.00669188462604, 342.682671445092, 316.07576189968836, 339.5826248232415, 310.26541371470506, 312.27460040777044, 357.96155828815284, 336.9949033978265, 341.4716879702023, 315.6149840460731, 351.85873209260063, 317.5303176603673, 333.2321713527934, 295.01509218068287, 310.01469037793726, 351.0723018636541, 314.1289396454004], \"xaxis\": \"x2\", \"y\": [224.86035596607186, 223.221163418267, 197.9557160667931, 255.93232536195598, 214.48537323066242, 251.35538297180503, 229.95081868939343, 250.1196723074273, 227.89194135533276, 226.97419906119976, 211.4453536178937, 217.6642513181342, 200.00196517027786, 242.92811322188442, 238.4417183842289, 216.20331880568418, 246.3447542337889, 229.1326576273109, 191.0097281545669, 232.27542756107465, 259.51325471414407, 201.3804794068146, 220.49650692135867, 245.56824891509387, 225.20643806671558, 226.0874507015087, 194.8695355706552, 209.59200707541237, 219.32177892327343, 223.86231709191773], \"yaxis\": \"y2\"}, {\"hovertemplate\": \"color=blue<br>intial=1<br>x=%{x}<br>y=%{y}<extra></extra>\", \"legendgroup\": \"blue\", \"marker\": {\"color\": \"#00cc96\", \"symbol\": \"circle\"}, \"mode\": \"markers\", \"name\": \"blue\", \"orientation\": \"v\", \"showlegend\": true, \"type\": \"scatter\", \"x\": [389.99345549068437, 249.35877190642964, 292.99024137927836, 324.0055568785401, 173.99026936940166, 287.11302973746945, 67.51263314881234, 276.77239636801164, 59.75465989430728, 469.58446073825485, 240.7580431588994, 227.8814595509726, 211.97324738462157, 420.96423928048205, 395.6229048037571, 364.84358296944674, 183.74633439085684, 104.34213797760216, 473.01425497446564, 340.27310208090864, 422.8072647869326, 131.8592470246362, 213.7969518433474, 489.9300865335125, 490.0592872062882, 414.8182502080759, 477.1330215811223, 460.1641100598762, 210.7477910553088, 290.31986816586533], \"xaxis\": \"x\", \"y\": [402.9870614918566, 343.35496511066964, 100.18774132742986, 40.70011620714242, 173.73023707794258, 487.414215972548, 376.41582568761686, 209.84866823469955, 205.21287420012214, 70.53979794123597, 136.57328794984966, 355.56087755755783, 337.55892562561286, 201.5601303134281, 232.03400517413417, 279.603893607315, 431.3055768157842, 391.70725731995964, 392.60180992357283, 66.31059098190029, 261.71256960346517, 187.9117047546546, 243.4869066237743, 75.07404368759623, 340.1490150780134, 403.21422223280223, 167.74955673727248, 333.5307873733313, 415.1987717160697, 24.273453247350307], \"yaxis\": \"y\"}, {\"hovertemplate\": \"color=blue<br>intial=0<br>x=%{x}<br>y=%{y}<extra></extra>\", \"legendgroup\": \"blue\", \"marker\": {\"color\": \"#00cc96\", \"symbol\": \"circle\"}, \"mode\": \"markers\", \"name\": \"blue\", \"orientation\": \"v\", \"showlegend\": false, \"type\": \"scatter\", \"x\": [144.8466066985989, 125.15385180358182, 116.24937081600063, 161.04880587813562, 143.0892810879779, 128.02239164550275, 165.7166488675584, 137.32629834956057, 117.59284806415651, 137.59903786965106, 136.69964690094636, 103.09562841723415, 100.93690168009128, 101.01580853903258, 99.51243912114737, 107.80242593318808, 127.08414791285904, 163.91273130923838, 124.10982572043359, 128.97725975495507, 138.37372455427266, 162.7882268003007, 124.54083039297836, 97.89390785294714, 89.11589096602802, 149.8686982543653, 108.1781180270076, 130.64662308700736, 91.98403273142249, 119.71619543917214], \"xaxis\": \"x2\", \"y\": [278.953089018564, 310.99044591232143, 300.18822736988164, 327.95592607094426, 281.0914330077054, 284.23817234676693, 306.94120819938587, 334.0471234082148, 315.34819875906504, 340.53298769523127, 302.5938916079953, 332.5097215783313, 322.0355997015, 323.20372337085803, 317.54531697960056, 336.97011206313107, 294.48766621773257, 297.2236164280178, 295.84872722280954, 311.394278023762, 323.39535982286543, 289.8241459700507, 306.48816268112165, 284.3088986586671, 289.8945248480923, 298.8023407282143, 322.5768223512296, 293.64443800718675, 304.09224097284283, 320.8286498685931], \"yaxis\": \"y2\"}],\n",
       "                        {\"annotations\": [{\"font\": {}, \"showarrow\": false, \"text\": \"intial=1\", \"x\": 0.245, \"xanchor\": \"center\", \"xref\": \"paper\", \"y\": 1.0, \"yanchor\": \"bottom\", \"yref\": \"paper\"}, {\"font\": {}, \"showarrow\": false, \"text\": \"intial=0\", \"x\": 0.755, \"xanchor\": \"center\", \"xref\": \"paper\", \"y\": 1.0, \"yanchor\": \"bottom\", \"yref\": \"paper\"}], \"legend\": {\"title\": {\"text\": \"color\"}, \"tracegroupgap\": 0}, \"margin\": {\"t\": 60}, \"template\": {\"data\": {\"bar\": [{\"error_x\": {\"color\": \"#2a3f5f\"}, \"error_y\": {\"color\": \"#2a3f5f\"}, \"marker\": {\"line\": {\"color\": \"#E5ECF6\", \"width\": 0.5}}, \"type\": \"bar\"}], \"barpolar\": [{\"marker\": {\"line\": {\"color\": \"#E5ECF6\", \"width\": 0.5}}, \"type\": \"barpolar\"}], \"carpet\": [{\"aaxis\": {\"endlinecolor\": \"#2a3f5f\", \"gridcolor\": \"white\", \"linecolor\": \"white\", \"minorgridcolor\": \"white\", \"startlinecolor\": \"#2a3f5f\"}, \"baxis\": {\"endlinecolor\": \"#2a3f5f\", \"gridcolor\": \"white\", \"linecolor\": \"white\", \"minorgridcolor\": \"white\", \"startlinecolor\": \"#2a3f5f\"}, \"type\": \"carpet\"}], \"choropleth\": [{\"colorbar\": {\"outlinewidth\": 0, \"ticks\": \"\"}, \"type\": \"choropleth\"}], \"contour\": [{\"colorbar\": {\"outlinewidth\": 0, \"ticks\": \"\"}, \"colorscale\": [[0.0, \"#0d0887\"], [0.1111111111111111, \"#46039f\"], [0.2222222222222222, \"#7201a8\"], [0.3333333333333333, \"#9c179e\"], [0.4444444444444444, \"#bd3786\"], [0.5555555555555556, \"#d8576b\"], [0.6666666666666666, \"#ed7953\"], [0.7777777777777778, \"#fb9f3a\"], [0.8888888888888888, \"#fdca26\"], [1.0, \"#f0f921\"]], \"type\": \"contour\"}], \"contourcarpet\": [{\"colorbar\": {\"outlinewidth\": 0, \"ticks\": \"\"}, \"type\": \"contourcarpet\"}], \"heatmap\": [{\"colorbar\": {\"outlinewidth\": 0, \"ticks\": \"\"}, \"colorscale\": [[0.0, \"#0d0887\"], [0.1111111111111111, \"#46039f\"], [0.2222222222222222, \"#7201a8\"], [0.3333333333333333, \"#9c179e\"], [0.4444444444444444, \"#bd3786\"], [0.5555555555555556, \"#d8576b\"], [0.6666666666666666, \"#ed7953\"], [0.7777777777777778, \"#fb9f3a\"], [0.8888888888888888, \"#fdca26\"], [1.0, \"#f0f921\"]], \"type\": \"heatmap\"}], \"heatmapgl\": [{\"colorbar\": {\"outlinewidth\": 0, \"ticks\": \"\"}, \"colorscale\": [[0.0, \"#0d0887\"], [0.1111111111111111, \"#46039f\"], [0.2222222222222222, \"#7201a8\"], [0.3333333333333333, \"#9c179e\"], [0.4444444444444444, \"#bd3786\"], [0.5555555555555556, \"#d8576b\"], [0.6666666666666666, \"#ed7953\"], [0.7777777777777778, \"#fb9f3a\"], [0.8888888888888888, \"#fdca26\"], [1.0, \"#f0f921\"]], \"type\": \"heatmapgl\"}], \"histogram\": [{\"marker\": {\"colorbar\": {\"outlinewidth\": 0, \"ticks\": \"\"}}, \"type\": \"histogram\"}], \"histogram2d\": [{\"colorbar\": {\"outlinewidth\": 0, \"ticks\": \"\"}, \"colorscale\": [[0.0, \"#0d0887\"], [0.1111111111111111, \"#46039f\"], [0.2222222222222222, \"#7201a8\"], [0.3333333333333333, \"#9c179e\"], [0.4444444444444444, \"#bd3786\"], [0.5555555555555556, \"#d8576b\"], [0.6666666666666666, \"#ed7953\"], [0.7777777777777778, \"#fb9f3a\"], [0.8888888888888888, \"#fdca26\"], [1.0, \"#f0f921\"]], \"type\": \"histogram2d\"}], \"histogram2dcontour\": [{\"colorbar\": {\"outlinewidth\": 0, \"ticks\": \"\"}, \"colorscale\": [[0.0, \"#0d0887\"], [0.1111111111111111, \"#46039f\"], [0.2222222222222222, \"#7201a8\"], [0.3333333333333333, \"#9c179e\"], [0.4444444444444444, \"#bd3786\"], [0.5555555555555556, \"#d8576b\"], [0.6666666666666666, \"#ed7953\"], [0.7777777777777778, \"#fb9f3a\"], [0.8888888888888888, \"#fdca26\"], [1.0, \"#f0f921\"]], \"type\": \"histogram2dcontour\"}], \"mesh3d\": [{\"colorbar\": {\"outlinewidth\": 0, \"ticks\": \"\"}, \"type\": \"mesh3d\"}], \"parcoords\": [{\"line\": {\"colorbar\": {\"outlinewidth\": 0, \"ticks\": \"\"}}, \"type\": \"parcoords\"}], \"pie\": [{\"automargin\": true, \"type\": \"pie\"}], \"scatter\": [{\"marker\": {\"colorbar\": {\"outlinewidth\": 0, \"ticks\": \"\"}}, \"type\": \"scatter\"}], \"scatter3d\": [{\"line\": {\"colorbar\": {\"outlinewidth\": 0, \"ticks\": \"\"}}, \"marker\": {\"colorbar\": {\"outlinewidth\": 0, \"ticks\": \"\"}}, \"type\": \"scatter3d\"}], \"scattercarpet\": [{\"marker\": {\"colorbar\": {\"outlinewidth\": 0, \"ticks\": \"\"}}, \"type\": \"scattercarpet\"}], \"scattergeo\": [{\"marker\": {\"colorbar\": {\"outlinewidth\": 0, \"ticks\": \"\"}}, \"type\": \"scattergeo\"}], \"scattergl\": [{\"marker\": {\"colorbar\": {\"outlinewidth\": 0, \"ticks\": \"\"}}, \"type\": \"scattergl\"}], \"scattermapbox\": [{\"marker\": {\"colorbar\": {\"outlinewidth\": 0, \"ticks\": \"\"}}, \"type\": \"scattermapbox\"}], \"scatterpolar\": [{\"marker\": {\"colorbar\": {\"outlinewidth\": 0, \"ticks\": \"\"}}, \"type\": \"scatterpolar\"}], \"scatterpolargl\": [{\"marker\": {\"colorbar\": {\"outlinewidth\": 0, \"ticks\": \"\"}}, \"type\": \"scatterpolargl\"}], \"scatterternary\": [{\"marker\": {\"colorbar\": {\"outlinewidth\": 0, \"ticks\": \"\"}}, \"type\": \"scatterternary\"}], \"surface\": [{\"colorbar\": {\"outlinewidth\": 0, \"ticks\": \"\"}, \"colorscale\": [[0.0, \"#0d0887\"], [0.1111111111111111, \"#46039f\"], [0.2222222222222222, \"#7201a8\"], [0.3333333333333333, \"#9c179e\"], [0.4444444444444444, \"#bd3786\"], [0.5555555555555556, \"#d8576b\"], [0.6666666666666666, \"#ed7953\"], [0.7777777777777778, \"#fb9f3a\"], [0.8888888888888888, \"#fdca26\"], [1.0, \"#f0f921\"]], \"type\": \"surface\"}], \"table\": [{\"cells\": {\"fill\": {\"color\": \"#EBF0F8\"}, \"line\": {\"color\": \"white\"}}, \"header\": {\"fill\": {\"color\": \"#C8D4E3\"}, \"line\": {\"color\": \"white\"}}, \"type\": \"table\"}]}, \"layout\": {\"annotationdefaults\": {\"arrowcolor\": \"#2a3f5f\", \"arrowhead\": 0, \"arrowwidth\": 1}, \"coloraxis\": {\"colorbar\": {\"outlinewidth\": 0, \"ticks\": \"\"}}, \"colorscale\": {\"diverging\": [[0, \"#8e0152\"], [0.1, \"#c51b7d\"], [0.2, \"#de77ae\"], [0.3, \"#f1b6da\"], [0.4, \"#fde0ef\"], [0.5, \"#f7f7f7\"], [0.6, \"#e6f5d0\"], [0.7, \"#b8e186\"], [0.8, \"#7fbc41\"], [0.9, \"#4d9221\"], [1, \"#276419\"]], \"sequential\": [[0.0, \"#0d0887\"], [0.1111111111111111, \"#46039f\"], [0.2222222222222222, \"#7201a8\"], [0.3333333333333333, \"#9c179e\"], [0.4444444444444444, \"#bd3786\"], [0.5555555555555556, \"#d8576b\"], [0.6666666666666666, \"#ed7953\"], [0.7777777777777778, \"#fb9f3a\"], [0.8888888888888888, \"#fdca26\"], [1.0, \"#f0f921\"]], \"sequentialminus\": [[0.0, \"#0d0887\"], [0.1111111111111111, \"#46039f\"], [0.2222222222222222, \"#7201a8\"], [0.3333333333333333, \"#9c179e\"], [0.4444444444444444, \"#bd3786\"], [0.5555555555555556, \"#d8576b\"], [0.6666666666666666, \"#ed7953\"], [0.7777777777777778, \"#fb9f3a\"], [0.8888888888888888, \"#fdca26\"], [1.0, \"#f0f921\"]]}, \"colorway\": [\"#636efa\", \"#EF553B\", \"#00cc96\", \"#ab63fa\", \"#FFA15A\", \"#19d3f3\", \"#FF6692\", \"#B6E880\", \"#FF97FF\", \"#FECB52\"], \"font\": {\"color\": \"#2a3f5f\"}, \"geo\": {\"bgcolor\": \"white\", \"lakecolor\": \"white\", \"landcolor\": \"#E5ECF6\", \"showlakes\": true, \"showland\": true, \"subunitcolor\": \"white\"}, \"hoverlabel\": {\"align\": \"left\"}, \"hovermode\": \"closest\", \"mapbox\": {\"style\": \"light\"}, \"paper_bgcolor\": \"white\", \"plot_bgcolor\": \"#E5ECF6\", \"polar\": {\"angularaxis\": {\"gridcolor\": \"white\", \"linecolor\": \"white\", \"ticks\": \"\"}, \"bgcolor\": \"#E5ECF6\", \"radialaxis\": {\"gridcolor\": \"white\", \"linecolor\": \"white\", \"ticks\": \"\"}}, \"scene\": {\"xaxis\": {\"backgroundcolor\": \"#E5ECF6\", \"gridcolor\": \"white\", \"gridwidth\": 2, \"linecolor\": \"white\", \"showbackground\": true, \"ticks\": \"\", \"zerolinecolor\": \"white\"}, \"yaxis\": {\"backgroundcolor\": \"#E5ECF6\", \"gridcolor\": \"white\", \"gridwidth\": 2, \"linecolor\": \"white\", \"showbackground\": true, \"ticks\": \"\", \"zerolinecolor\": \"white\"}, \"zaxis\": {\"backgroundcolor\": \"#E5ECF6\", \"gridcolor\": \"white\", \"gridwidth\": 2, \"linecolor\": \"white\", \"showbackground\": true, \"ticks\": \"\", \"zerolinecolor\": \"white\"}}, \"shapedefaults\": {\"line\": {\"color\": \"#2a3f5f\"}}, \"ternary\": {\"aaxis\": {\"gridcolor\": \"white\", \"linecolor\": \"white\", \"ticks\": \"\"}, \"baxis\": {\"gridcolor\": \"white\", \"linecolor\": \"white\", \"ticks\": \"\"}, \"bgcolor\": \"#E5ECF6\", \"caxis\": {\"gridcolor\": \"white\", \"linecolor\": \"white\", \"ticks\": \"\"}}, \"title\": {\"x\": 0.05}, \"xaxis\": {\"automargin\": true, \"gridcolor\": \"white\", \"linecolor\": \"white\", \"ticks\": \"\", \"title\": {\"standoff\": 15}, \"zerolinecolor\": \"white\", \"zerolinewidth\": 2}, \"yaxis\": {\"automargin\": true, \"gridcolor\": \"white\", \"linecolor\": \"white\", \"ticks\": \"\", \"title\": {\"standoff\": 15}, \"zerolinecolor\": \"white\", \"zerolinewidth\": 2}}}, \"xaxis\": {\"anchor\": \"y\", \"domain\": [0.0, 0.49], \"title\": {\"text\": \"x\"}}, \"xaxis2\": {\"anchor\": \"y2\", \"domain\": [0.51, 1.0], \"matches\": \"x\", \"title\": {\"text\": \"x\"}}, \"yaxis\": {\"anchor\": \"x\", \"domain\": [0.0, 1.0], \"title\": {\"text\": \"y\"}}, \"yaxis2\": {\"anchor\": \"x2\", \"domain\": [0.0, 1.0], \"matches\": \"y\", \"showticklabels\": false}},\n",
       "                        {\"responsive\": true}\n",
       "                    ).then(function(){\n",
       "                            \n",
       "var gd = document.getElementById('d19d1967-912a-4c58-850c-9e84c895b01e');\n",
       "var x = new MutationObserver(function (mutations, observer) {{\n",
       "        var display = window.getComputedStyle(gd).display;\n",
       "        if (!display || display === 'none') {{\n",
       "            console.log([gd, 'removed!']);\n",
       "            Plotly.purge(gd);\n",
       "            observer.disconnect();\n",
       "        }}\n",
       "}});\n",
       "\n",
       "// Listen for the removal of the full notebook cells\n",
       "var notebookContainer = gd.closest('#notebook-container');\n",
       "if (notebookContainer) {{\n",
       "    x.observe(notebookContainer, {childList: true});\n",
       "}}\n",
       "\n",
       "// Listen for the clearing of the current output cell\n",
       "var outputEl = gd.closest('.output');\n",
       "if (outputEl) {{\n",
       "    x.observe(outputEl, {childList: true});\n",
       "}}\n",
       "\n",
       "                        })\n",
       "                };\n",
       "                });\n",
       "            </script>\n",
       "        </div>"
      ]
     },
     "metadata": {},
     "output_type": "display_data"
    }
   ],
   "source": [
    "fig = tidy_df.plot.scatter(x='x', y='y',\n",
    "                     facet_col='intial', # split the data to subplot according to this columns\n",
    "                           color = 'color')                \n",
    "\n",
    "fig.show()"
   ]
  },
  {
   "cell_type": "code",
   "execution_count": 84,
   "metadata": {},
   "outputs": [
    {
     "data": {
      "text/plain": [
       "0       red\n",
       "1       red\n",
       "2       red\n",
       "3       red\n",
       "4       red\n",
       "       ... \n",
       "175    blue\n",
       "176    blue\n",
       "177    blue\n",
       "178    blue\n",
       "179    blue\n",
       "Name: color, Length: 180, dtype: object"
      ]
     },
     "execution_count": 84,
     "metadata": {},
     "output_type": "execute_result"
    }
   ],
   "source": [
    "tidy_df.color"
   ]
  },
  {
   "cell_type": "code",
   "execution_count": 85,
   "metadata": {},
   "outputs": [
    {
     "data": {
      "text/html": [
       "<div>\n",
       "<style scoped>\n",
       "    .dataframe tbody tr th:only-of-type {\n",
       "        vertical-align: middle;\n",
       "    }\n",
       "\n",
       "    .dataframe tbody tr th {\n",
       "        vertical-align: top;\n",
       "    }\n",
       "\n",
       "    .dataframe thead th {\n",
       "        text-align: right;\n",
       "    }\n",
       "</style>\n",
       "<table border=\"1\" class=\"dataframe\">\n",
       "  <thead>\n",
       "    <tr style=\"text-align: right;\">\n",
       "      <th></th>\n",
       "      <th>Xi</th>\n",
       "      <th>Yi</th>\n",
       "      <th>Xf</th>\n",
       "      <th>Yf</th>\n",
       "      <th>color</th>\n",
       "    </tr>\n",
       "  </thead>\n",
       "  <tbody>\n",
       "    <tr>\n",
       "      <th>0</th>\n",
       "      <td>109.360643</td>\n",
       "      <td>434.557514</td>\n",
       "      <td>90.755847</td>\n",
       "      <td>171.363051</td>\n",
       "      <td>red</td>\n",
       "    </tr>\n",
       "    <tr>\n",
       "      <th>1</th>\n",
       "      <td>55.957358</td>\n",
       "      <td>438.934136</td>\n",
       "      <td>84.189607</td>\n",
       "      <td>182.890903</td>\n",
       "      <td>red</td>\n",
       "    </tr>\n",
       "    <tr>\n",
       "      <th>2</th>\n",
       "      <td>369.115969</td>\n",
       "      <td>419.904538</td>\n",
       "      <td>112.121845</td>\n",
       "      <td>144.288556</td>\n",
       "      <td>red</td>\n",
       "    </tr>\n",
       "    <tr>\n",
       "      <th>3</th>\n",
       "      <td>491.392739</td>\n",
       "      <td>492.316412</td>\n",
       "      <td>116.747266</td>\n",
       "      <td>170.049756</td>\n",
       "      <td>red</td>\n",
       "    </tr>\n",
       "    <tr>\n",
       "      <th>4</th>\n",
       "      <td>34.286602</td>\n",
       "      <td>404.017801</td>\n",
       "      <td>97.938407</td>\n",
       "      <td>181.777689</td>\n",
       "      <td>red</td>\n",
       "    </tr>\n",
       "  </tbody>\n",
       "</table>\n",
       "</div>"
      ],
      "text/plain": [
       "           Xi          Yi          Xf          Yf color\n",
       "0  109.360643  434.557514   90.755847  171.363051   red\n",
       "1   55.957358  438.934136   84.189607  182.890903   red\n",
       "2  369.115969  419.904538  112.121845  144.288556   red\n",
       "3  491.392739  492.316412  116.747266  170.049756   red\n",
       "4   34.286602  404.017801   97.938407  181.777689   red"
      ]
     },
     "execution_count": 85,
     "metadata": {},
     "output_type": "execute_result"
    }
   ],
   "source": [
    "df.head()"
   ]
  },
  {
   "cell_type": "code",
   "execution_count": 86,
   "metadata": {},
   "outputs": [
    {
     "data": {
      "application/vnd.plotly.v1+json": {
       "config": {
        "plotlyServerURL": "https://plot.ly"
       },
       "data": [
        {
         "marker": {
          "color": [
           "red",
           "red",
           "red",
           "red",
           "red",
           "red",
           "red",
           "red",
           "red",
           "red",
           "red",
           "red",
           "red",
           "red",
           "red",
           "red",
           "red",
           "red",
           "red",
           "red",
           "red",
           "red",
           "red",
           "red",
           "red",
           "red",
           "red",
           "red",
           "red",
           "red",
           "green",
           "green",
           "green",
           "green",
           "green",
           "green",
           "green",
           "green",
           "green",
           "green",
           "green",
           "green",
           "green",
           "green",
           "green",
           "green",
           "green",
           "green",
           "green",
           "green",
           "green",
           "green",
           "green",
           "green",
           "green",
           "green",
           "green",
           "green",
           "green",
           "green",
           "blue",
           "blue",
           "blue",
           "blue",
           "blue",
           "blue",
           "blue",
           "blue",
           "blue",
           "blue",
           "blue",
           "blue",
           "blue",
           "blue",
           "blue",
           "blue",
           "blue",
           "blue",
           "blue",
           "blue",
           "blue",
           "blue",
           "blue",
           "blue",
           "blue",
           "blue",
           "blue",
           "blue",
           "blue",
           "blue"
          ]
         },
         "mode": "markers",
         "type": "scatter",
         "x": [
          109.36064277774466,
          55.95735794900907,
          369.1159692686163,
          491.3927390873703,
          34.286601741833785,
          316.6157031813405,
          265.5907432464507,
          430.73261675172614,
          60.99739655005153,
          189.8583139661716,
          304.39566027156826,
          400.09145406755584,
          70.89943133703758,
          198.6847865725222,
          179.48252978440414,
          250.78207193262628,
          430.81243126591187,
          413.83768817585985,
          276.22183151368324,
          471.4185727690705,
          154.6045405211059,
          182.1489173971974,
          101.51550150251032,
          121.37445607817648,
          44.976967759804815,
          384.5840894190522,
          17.785078725646166,
          202.3047727105588,
          325.37924405603377,
          192.17782462920928,
          448.90043797430536,
          257.4725849775301,
          322.8359508806838,
          115.3332715735205,
          134.40669389692772,
          436.76382681064115,
          99.03644773076492,
          46.39683168034886,
          448.18607191014155,
          466.3252762917248,
          15.503517136157274,
          22.925982873215734,
          400.3732370778019,
          361.5987790169701,
          275.3846281417486,
          190.98489367857889,
          333.12519974507194,
          302.38009015926633,
          326.355470932698,
          295.50554398883395,
          438.73550735083575,
          54.37370965175364,
          201.3683556690127,
          389.0690491359697,
          166.6925157846014,
          245.07176095355481,
          246.66442491392345,
          390.137035595907,
          117.93499204266195,
          318.4083561297176,
          402.9870614918566,
          343.35496511066964,
          100.18774132742986,
          40.70011620714242,
          173.73023707794258,
          487.414215972548,
          376.41582568761686,
          209.84866823469955,
          205.21287420012214,
          70.53979794123597,
          136.57328794984966,
          355.56087755755783,
          337.55892562561286,
          201.5601303134281,
          232.03400517413417,
          279.603893607315,
          431.3055768157842,
          391.70725731995964,
          392.60180992357283,
          66.31059098190029,
          261.71256960346517,
          187.9117047546546,
          243.4869066237743,
          75.07404368759623,
          340.1490150780134,
          403.21422223280223,
          167.74955673727248,
          333.5307873733313,
          415.1987717160697,
          24.273453247350307
         ],
         "y": [
          434.55751371019477,
          438.934136212734,
          419.90453774636,
          492.31641190754,
          404.01780054047015,
          135.20651640033077,
          76.43408294214038,
          353.06990207008164,
          366.6811613734512,
          145.59642688419657,
          314.04026011357934,
          16.355147337662135,
          424.5626355561188,
          172.9960448855888,
          476.8481791032582,
          9.151688287125868,
          75.31440348436664,
          149.03070133546439,
          205.395164650859,
          16.20310780180001,
          1.6427669520882038,
          68.01981026325987,
          275.344710961698,
          199.06883062851196,
          400.40342331580706,
          294.2144788327755,
          404.5462234154833,
          475.46301903677255,
          291.29756057409304,
          63.424316825181855,
          104.20928384906874,
          197.45650453002045,
          1.2673484583733408,
          133.55354658127578,
          187.87410883221213,
          263.8216233527437,
          92.32633220423908,
          36.05695577692508,
          238.78424978295962,
          15.547806139596775,
          93.09094443995569,
          381.53962632414436,
          134.3486308145409,
          370.3131490243602,
          381.8351595981522,
          395.94675451757723,
          87.3803483648762,
          410.7441644190258,
          4.250556647049764,
          374.5355743859543,
          446.2929603855296,
          385.9204024973217,
          131.08575300066715,
          209.4484421767524,
          250.52492723417362,
          452.03645687911165,
          29.59542632523349,
          474.5961230905788,
          407.53419780455147,
          284.37238651357865,
          389.99345549068437,
          249.35877190642964,
          292.99024137927836,
          324.0055568785401,
          173.99026936940166,
          287.11302973746945,
          67.51263314881234,
          276.77239636801164,
          59.75465989430728,
          469.58446073825485,
          240.7580431588994,
          227.8814595509726,
          211.97324738462157,
          420.96423928048205,
          395.6229048037571,
          364.84358296944674,
          183.74633439085684,
          104.34213797760216,
          473.01425497446564,
          340.27310208090864,
          422.8072647869326,
          131.8592470246362,
          213.7969518433474,
          489.9300865335125,
          490.0592872062882,
          414.8182502080759,
          477.1330215811223,
          460.1641100598762,
          210.7477910553088,
          290.31986816586533
         ]
        }
       ],
       "frames": [
        {
         "data": [
          {
           "marker": {
            "color": [
             "red",
             "red",
             "red",
             "red",
             "red",
             "red",
             "red",
             "red",
             "red",
             "red",
             "red",
             "red",
             "red",
             "red",
             "red",
             "red",
             "red",
             "red",
             "red",
             "red",
             "red",
             "red",
             "red",
             "red",
             "red",
             "red",
             "red",
             "red",
             "red",
             "red",
             "green",
             "green",
             "green",
             "green",
             "green",
             "green",
             "green",
             "green",
             "green",
             "green",
             "green",
             "green",
             "green",
             "green",
             "green",
             "green",
             "green",
             "green",
             "green",
             "green",
             "green",
             "green",
             "green",
             "green",
             "green",
             "green",
             "green",
             "green",
             "green",
             "green",
             "blue",
             "blue",
             "blue",
             "blue",
             "blue",
             "blue",
             "blue",
             "blue",
             "blue",
             "blue",
             "blue",
             "blue",
             "blue",
             "blue",
             "blue",
             "blue",
             "blue",
             "blue",
             "blue",
             "blue",
             "blue",
             "blue",
             "blue",
             "blue",
             "blue",
             "blue",
             "blue",
             "blue",
             "blue",
             "blue"
            ]
           },
           "mode": "markers",
           "type": "scatter",
           "x": [
            90.75584668916012,
            84.1896066497078,
            112.12184474773792,
            116.74726615961323,
            97.93840664961658,
            104.02750275651955,
            86.56590016261661,
            106.34273632022268,
            112.80106451084309,
            113.04824126792809,
            59.386767170530256,
            106.10932283309396,
            102.67390108356308,
            110.43346092247242,
            107.42325016129485,
            96.30033742380958,
            119.5110160447247,
            104.4038560207679,
            145.01868752328159,
            60.72706173856358,
            83.66906400139905,
            97.835562279214,
            93.2484444136512,
            107.17445860631041,
            113.62329497033896,
            105.99568137761351,
            97.0551928335592,
            79.4324614192561,
            96.73176023955557,
            85.18970242949561,
            224.86035596607186,
            223.221163418267,
            197.9557160667931,
            255.93232536195598,
            214.48537323066242,
            251.35538297180503,
            229.95081868939343,
            250.1196723074273,
            227.89194135533276,
            226.97419906119976,
            211.4453536178937,
            217.6642513181342,
            200.00196517027786,
            242.92811322188442,
            238.4417183842289,
            216.20331880568418,
            246.3447542337889,
            229.1326576273109,
            191.0097281545669,
            232.27542756107465,
            259.51325471414407,
            201.3804794068146,
            220.49650692135867,
            245.56824891509387,
            225.20643806671558,
            226.0874507015087,
            194.8695355706552,
            209.59200707541237,
            219.32177892327343,
            223.86231709191773,
            278.953089018564,
            310.99044591232143,
            300.18822736988164,
            327.95592607094426,
            281.0914330077054,
            284.23817234676693,
            306.94120819938587,
            334.0471234082148,
            315.34819875906504,
            340.53298769523127,
            302.5938916079953,
            332.5097215783313,
            322.0355997015,
            323.20372337085803,
            317.54531697960056,
            336.97011206313107,
            294.48766621773257,
            297.2236164280178,
            295.84872722280954,
            311.394278023762,
            323.39535982286543,
            289.8241459700507,
            306.48816268112165,
            284.3088986586671,
            289.8945248480923,
            298.8023407282143,
            322.5768223512296,
            293.64443800718675,
            304.09224097284283,
            320.8286498685931
           ],
           "y": [
            171.36305145599832,
            182.8909026601121,
            144.2885557461066,
            170.04975633076566,
            181.777689320059,
            154.6404977893314,
            172.1955609914016,
            160.08140705574297,
            179.7578317983617,
            142.919023074974,
            213.0727175617316,
            149.3466941985945,
            166.09376036653245,
            161.658642978131,
            180.88518921787647,
            181.8107826798447,
            186.1150797054459,
            205.33817851170383,
            154.85496148836398,
            174.75143976043174,
            176.1055854257733,
            181.89675587226427,
            151.5701268215669,
            174.46339721268745,
            168.15766712015002,
            176.1022108019683,
            175.37049869445522,
            199.35721767489486,
            154.21001042247926,
            205.26424796444385,
            338.515162590575,
            301.75663044274836,
            279.8278967010393,
            327.23430560364983,
            295.37012964756264,
            332.9711076906101,
            311.36263928688714,
            328.0405751895687,
            317.67365492555786,
            334.89880107541376,
            337.639930338434,
            315.6740535797863,
            344.5445501130185,
            337.00669188462604,
            342.682671445092,
            316.07576189968836,
            339.5826248232415,
            310.26541371470506,
            312.27460040777044,
            357.96155828815284,
            336.9949033978265,
            341.4716879702023,
            315.6149840460731,
            351.85873209260063,
            317.5303176603673,
            333.2321713527934,
            295.01509218068287,
            310.01469037793726,
            351.0723018636541,
            314.1289396454004,
            144.8466066985989,
            125.15385180358182,
            116.24937081600063,
            161.04880587813562,
            143.0892810879779,
            128.02239164550275,
            165.7166488675584,
            137.32629834956057,
            117.59284806415651,
            137.59903786965106,
            136.69964690094636,
            103.09562841723415,
            100.93690168009128,
            101.01580853903258,
            99.51243912114737,
            107.80242593318808,
            127.08414791285904,
            163.91273130923838,
            124.10982572043359,
            128.97725975495507,
            138.37372455427266,
            162.7882268003007,
            124.54083039297836,
            97.89390785294714,
            89.11589096602802,
            149.8686982543653,
            108.1781180270076,
            130.64662308700736,
            91.98403273142249,
            119.71619543917214
           ]
          }
         ],
         "layout": {
          "title": {
           "text": "final"
          }
         }
        }
       ],
       "layout": {
        "template": {
         "data": {
          "bar": [
           {
            "error_x": {
             "color": "#2a3f5f"
            },
            "error_y": {
             "color": "#2a3f5f"
            },
            "marker": {
             "line": {
              "color": "#E5ECF6",
              "width": 0.5
             }
            },
            "type": "bar"
           }
          ],
          "barpolar": [
           {
            "marker": {
             "line": {
              "color": "#E5ECF6",
              "width": 0.5
             }
            },
            "type": "barpolar"
           }
          ],
          "carpet": [
           {
            "aaxis": {
             "endlinecolor": "#2a3f5f",
             "gridcolor": "white",
             "linecolor": "white",
             "minorgridcolor": "white",
             "startlinecolor": "#2a3f5f"
            },
            "baxis": {
             "endlinecolor": "#2a3f5f",
             "gridcolor": "white",
             "linecolor": "white",
             "minorgridcolor": "white",
             "startlinecolor": "#2a3f5f"
            },
            "type": "carpet"
           }
          ],
          "choropleth": [
           {
            "colorbar": {
             "outlinewidth": 0,
             "ticks": ""
            },
            "type": "choropleth"
           }
          ],
          "contour": [
           {
            "colorbar": {
             "outlinewidth": 0,
             "ticks": ""
            },
            "colorscale": [
             [
              0,
              "#0d0887"
             ],
             [
              0.1111111111111111,
              "#46039f"
             ],
             [
              0.2222222222222222,
              "#7201a8"
             ],
             [
              0.3333333333333333,
              "#9c179e"
             ],
             [
              0.4444444444444444,
              "#bd3786"
             ],
             [
              0.5555555555555556,
              "#d8576b"
             ],
             [
              0.6666666666666666,
              "#ed7953"
             ],
             [
              0.7777777777777778,
              "#fb9f3a"
             ],
             [
              0.8888888888888888,
              "#fdca26"
             ],
             [
              1,
              "#f0f921"
             ]
            ],
            "type": "contour"
           }
          ],
          "contourcarpet": [
           {
            "colorbar": {
             "outlinewidth": 0,
             "ticks": ""
            },
            "type": "contourcarpet"
           }
          ],
          "heatmap": [
           {
            "colorbar": {
             "outlinewidth": 0,
             "ticks": ""
            },
            "colorscale": [
             [
              0,
              "#0d0887"
             ],
             [
              0.1111111111111111,
              "#46039f"
             ],
             [
              0.2222222222222222,
              "#7201a8"
             ],
             [
              0.3333333333333333,
              "#9c179e"
             ],
             [
              0.4444444444444444,
              "#bd3786"
             ],
             [
              0.5555555555555556,
              "#d8576b"
             ],
             [
              0.6666666666666666,
              "#ed7953"
             ],
             [
              0.7777777777777778,
              "#fb9f3a"
             ],
             [
              0.8888888888888888,
              "#fdca26"
             ],
             [
              1,
              "#f0f921"
             ]
            ],
            "type": "heatmap"
           }
          ],
          "heatmapgl": [
           {
            "colorbar": {
             "outlinewidth": 0,
             "ticks": ""
            },
            "colorscale": [
             [
              0,
              "#0d0887"
             ],
             [
              0.1111111111111111,
              "#46039f"
             ],
             [
              0.2222222222222222,
              "#7201a8"
             ],
             [
              0.3333333333333333,
              "#9c179e"
             ],
             [
              0.4444444444444444,
              "#bd3786"
             ],
             [
              0.5555555555555556,
              "#d8576b"
             ],
             [
              0.6666666666666666,
              "#ed7953"
             ],
             [
              0.7777777777777778,
              "#fb9f3a"
             ],
             [
              0.8888888888888888,
              "#fdca26"
             ],
             [
              1,
              "#f0f921"
             ]
            ],
            "type": "heatmapgl"
           }
          ],
          "histogram": [
           {
            "marker": {
             "colorbar": {
              "outlinewidth": 0,
              "ticks": ""
             }
            },
            "type": "histogram"
           }
          ],
          "histogram2d": [
           {
            "colorbar": {
             "outlinewidth": 0,
             "ticks": ""
            },
            "colorscale": [
             [
              0,
              "#0d0887"
             ],
             [
              0.1111111111111111,
              "#46039f"
             ],
             [
              0.2222222222222222,
              "#7201a8"
             ],
             [
              0.3333333333333333,
              "#9c179e"
             ],
             [
              0.4444444444444444,
              "#bd3786"
             ],
             [
              0.5555555555555556,
              "#d8576b"
             ],
             [
              0.6666666666666666,
              "#ed7953"
             ],
             [
              0.7777777777777778,
              "#fb9f3a"
             ],
             [
              0.8888888888888888,
              "#fdca26"
             ],
             [
              1,
              "#f0f921"
             ]
            ],
            "type": "histogram2d"
           }
          ],
          "histogram2dcontour": [
           {
            "colorbar": {
             "outlinewidth": 0,
             "ticks": ""
            },
            "colorscale": [
             [
              0,
              "#0d0887"
             ],
             [
              0.1111111111111111,
              "#46039f"
             ],
             [
              0.2222222222222222,
              "#7201a8"
             ],
             [
              0.3333333333333333,
              "#9c179e"
             ],
             [
              0.4444444444444444,
              "#bd3786"
             ],
             [
              0.5555555555555556,
              "#d8576b"
             ],
             [
              0.6666666666666666,
              "#ed7953"
             ],
             [
              0.7777777777777778,
              "#fb9f3a"
             ],
             [
              0.8888888888888888,
              "#fdca26"
             ],
             [
              1,
              "#f0f921"
             ]
            ],
            "type": "histogram2dcontour"
           }
          ],
          "mesh3d": [
           {
            "colorbar": {
             "outlinewidth": 0,
             "ticks": ""
            },
            "type": "mesh3d"
           }
          ],
          "parcoords": [
           {
            "line": {
             "colorbar": {
              "outlinewidth": 0,
              "ticks": ""
             }
            },
            "type": "parcoords"
           }
          ],
          "pie": [
           {
            "automargin": true,
            "type": "pie"
           }
          ],
          "scatter": [
           {
            "marker": {
             "colorbar": {
              "outlinewidth": 0,
              "ticks": ""
             }
            },
            "type": "scatter"
           }
          ],
          "scatter3d": [
           {
            "line": {
             "colorbar": {
              "outlinewidth": 0,
              "ticks": ""
             }
            },
            "marker": {
             "colorbar": {
              "outlinewidth": 0,
              "ticks": ""
             }
            },
            "type": "scatter3d"
           }
          ],
          "scattercarpet": [
           {
            "marker": {
             "colorbar": {
              "outlinewidth": 0,
              "ticks": ""
             }
            },
            "type": "scattercarpet"
           }
          ],
          "scattergeo": [
           {
            "marker": {
             "colorbar": {
              "outlinewidth": 0,
              "ticks": ""
             }
            },
            "type": "scattergeo"
           }
          ],
          "scattergl": [
           {
            "marker": {
             "colorbar": {
              "outlinewidth": 0,
              "ticks": ""
             }
            },
            "type": "scattergl"
           }
          ],
          "scattermapbox": [
           {
            "marker": {
             "colorbar": {
              "outlinewidth": 0,
              "ticks": ""
             }
            },
            "type": "scattermapbox"
           }
          ],
          "scatterpolar": [
           {
            "marker": {
             "colorbar": {
              "outlinewidth": 0,
              "ticks": ""
             }
            },
            "type": "scatterpolar"
           }
          ],
          "scatterpolargl": [
           {
            "marker": {
             "colorbar": {
              "outlinewidth": 0,
              "ticks": ""
             }
            },
            "type": "scatterpolargl"
           }
          ],
          "scatterternary": [
           {
            "marker": {
             "colorbar": {
              "outlinewidth": 0,
              "ticks": ""
             }
            },
            "type": "scatterternary"
           }
          ],
          "surface": [
           {
            "colorbar": {
             "outlinewidth": 0,
             "ticks": ""
            },
            "colorscale": [
             [
              0,
              "#0d0887"
             ],
             [
              0.1111111111111111,
              "#46039f"
             ],
             [
              0.2222222222222222,
              "#7201a8"
             ],
             [
              0.3333333333333333,
              "#9c179e"
             ],
             [
              0.4444444444444444,
              "#bd3786"
             ],
             [
              0.5555555555555556,
              "#d8576b"
             ],
             [
              0.6666666666666666,
              "#ed7953"
             ],
             [
              0.7777777777777778,
              "#fb9f3a"
             ],
             [
              0.8888888888888888,
              "#fdca26"
             ],
             [
              1,
              "#f0f921"
             ]
            ],
            "type": "surface"
           }
          ],
          "table": [
           {
            "cells": {
             "fill": {
              "color": "#EBF0F8"
             },
             "line": {
              "color": "white"
             }
            },
            "header": {
             "fill": {
              "color": "#C8D4E3"
             },
             "line": {
              "color": "white"
             }
            },
            "type": "table"
           }
          ]
         },
         "layout": {
          "annotationdefaults": {
           "arrowcolor": "#2a3f5f",
           "arrowhead": 0,
           "arrowwidth": 1
          },
          "coloraxis": {
           "colorbar": {
            "outlinewidth": 0,
            "ticks": ""
           }
          },
          "colorscale": {
           "diverging": [
            [
             0,
             "#8e0152"
            ],
            [
             0.1,
             "#c51b7d"
            ],
            [
             0.2,
             "#de77ae"
            ],
            [
             0.3,
             "#f1b6da"
            ],
            [
             0.4,
             "#fde0ef"
            ],
            [
             0.5,
             "#f7f7f7"
            ],
            [
             0.6,
             "#e6f5d0"
            ],
            [
             0.7,
             "#b8e186"
            ],
            [
             0.8,
             "#7fbc41"
            ],
            [
             0.9,
             "#4d9221"
            ],
            [
             1,
             "#276419"
            ]
           ],
           "sequential": [
            [
             0,
             "#0d0887"
            ],
            [
             0.1111111111111111,
             "#46039f"
            ],
            [
             0.2222222222222222,
             "#7201a8"
            ],
            [
             0.3333333333333333,
             "#9c179e"
            ],
            [
             0.4444444444444444,
             "#bd3786"
            ],
            [
             0.5555555555555556,
             "#d8576b"
            ],
            [
             0.6666666666666666,
             "#ed7953"
            ],
            [
             0.7777777777777778,
             "#fb9f3a"
            ],
            [
             0.8888888888888888,
             "#fdca26"
            ],
            [
             1,
             "#f0f921"
            ]
           ],
           "sequentialminus": [
            [
             0,
             "#0d0887"
            ],
            [
             0.1111111111111111,
             "#46039f"
            ],
            [
             0.2222222222222222,
             "#7201a8"
            ],
            [
             0.3333333333333333,
             "#9c179e"
            ],
            [
             0.4444444444444444,
             "#bd3786"
            ],
            [
             0.5555555555555556,
             "#d8576b"
            ],
            [
             0.6666666666666666,
             "#ed7953"
            ],
            [
             0.7777777777777778,
             "#fb9f3a"
            ],
            [
             0.8888888888888888,
             "#fdca26"
            ],
            [
             1,
             "#f0f921"
            ]
           ]
          },
          "colorway": [
           "#636efa",
           "#EF553B",
           "#00cc96",
           "#ab63fa",
           "#FFA15A",
           "#19d3f3",
           "#FF6692",
           "#B6E880",
           "#FF97FF",
           "#FECB52"
          ],
          "font": {
           "color": "#2a3f5f"
          },
          "geo": {
           "bgcolor": "white",
           "lakecolor": "white",
           "landcolor": "#E5ECF6",
           "showlakes": true,
           "showland": true,
           "subunitcolor": "white"
          },
          "hoverlabel": {
           "align": "left"
          },
          "hovermode": "closest",
          "mapbox": {
           "style": "light"
          },
          "paper_bgcolor": "white",
          "plot_bgcolor": "#E5ECF6",
          "polar": {
           "angularaxis": {
            "gridcolor": "white",
            "linecolor": "white",
            "ticks": ""
           },
           "bgcolor": "#E5ECF6",
           "radialaxis": {
            "gridcolor": "white",
            "linecolor": "white",
            "ticks": ""
           }
          },
          "scene": {
           "xaxis": {
            "backgroundcolor": "#E5ECF6",
            "gridcolor": "white",
            "gridwidth": 2,
            "linecolor": "white",
            "showbackground": true,
            "ticks": "",
            "zerolinecolor": "white"
           },
           "yaxis": {
            "backgroundcolor": "#E5ECF6",
            "gridcolor": "white",
            "gridwidth": 2,
            "linecolor": "white",
            "showbackground": true,
            "ticks": "",
            "zerolinecolor": "white"
           },
           "zaxis": {
            "backgroundcolor": "#E5ECF6",
            "gridcolor": "white",
            "gridwidth": 2,
            "linecolor": "white",
            "showbackground": true,
            "ticks": "",
            "zerolinecolor": "white"
           }
          },
          "shapedefaults": {
           "line": {
            "color": "#2a3f5f"
           }
          },
          "ternary": {
           "aaxis": {
            "gridcolor": "white",
            "linecolor": "white",
            "ticks": ""
           },
           "baxis": {
            "gridcolor": "white",
            "linecolor": "white",
            "ticks": ""
           },
           "bgcolor": "#E5ECF6",
           "caxis": {
            "gridcolor": "white",
            "linecolor": "white",
            "ticks": ""
           }
          },
          "title": {
           "x": 0.05
          },
          "xaxis": {
           "automargin": true,
           "gridcolor": "white",
           "linecolor": "white",
           "ticks": "",
           "title": {
            "standoff": 15
           },
           "zerolinecolor": "white",
           "zerolinewidth": 2
          },
          "yaxis": {
           "automargin": true,
           "gridcolor": "white",
           "linecolor": "white",
           "ticks": "",
           "title": {
            "standoff": 15
           },
           "zerolinecolor": "white",
           "zerolinewidth": 2
          }
         }
        },
        "title": {
         "text": "Initial"
        },
        "updatemenus": [
         {
          "buttons": [
           {
            "args": [
             null
            ],
            "label": "Play",
            "method": "animate"
           }
          ],
          "type": "buttons"
         }
        ]
       }
      },
      "text/html": [
       "<div>\n",
       "        \n",
       "        \n",
       "            <div id=\"298cbc72-fd6b-46bb-a308-52a0873ca65e\" class=\"plotly-graph-div\" style=\"height:525px; width:100%;\"></div>\n",
       "            <script type=\"text/javascript\">\n",
       "                require([\"plotly\"], function(Plotly) {\n",
       "                    window.PLOTLYENV=window.PLOTLYENV || {};\n",
       "                    \n",
       "                if (document.getElementById(\"298cbc72-fd6b-46bb-a308-52a0873ca65e\")) {\n",
       "                    Plotly.newPlot(\n",
       "                        '298cbc72-fd6b-46bb-a308-52a0873ca65e',\n",
       "                        [{\"marker\": {\"color\": [\"red\", \"red\", \"red\", \"red\", \"red\", \"red\", \"red\", \"red\", \"red\", \"red\", \"red\", \"red\", \"red\", \"red\", \"red\", \"red\", \"red\", \"red\", \"red\", \"red\", \"red\", \"red\", \"red\", \"red\", \"red\", \"red\", \"red\", \"red\", \"red\", \"red\", \"green\", \"green\", \"green\", \"green\", \"green\", \"green\", \"green\", \"green\", \"green\", \"green\", \"green\", \"green\", \"green\", \"green\", \"green\", \"green\", \"green\", \"green\", \"green\", \"green\", \"green\", \"green\", \"green\", \"green\", \"green\", \"green\", \"green\", \"green\", \"green\", \"green\", \"blue\", \"blue\", \"blue\", \"blue\", \"blue\", \"blue\", \"blue\", \"blue\", \"blue\", \"blue\", \"blue\", \"blue\", \"blue\", \"blue\", \"blue\", \"blue\", \"blue\", \"blue\", \"blue\", \"blue\", \"blue\", \"blue\", \"blue\", \"blue\", \"blue\", \"blue\", \"blue\", \"blue\", \"blue\", \"blue\"]}, \"mode\": \"markers\", \"type\": \"scatter\", \"x\": [109.36064277774466, 55.95735794900907, 369.1159692686163, 491.3927390873703, 34.286601741833785, 316.6157031813405, 265.5907432464507, 430.73261675172614, 60.99739655005153, 189.8583139661716, 304.39566027156826, 400.09145406755584, 70.89943133703758, 198.6847865725222, 179.48252978440414, 250.78207193262628, 430.81243126591187, 413.83768817585985, 276.22183151368324, 471.4185727690705, 154.6045405211059, 182.1489173971974, 101.51550150251032, 121.37445607817648, 44.976967759804815, 384.5840894190522, 17.785078725646166, 202.3047727105588, 325.37924405603377, 192.17782462920928, 448.90043797430536, 257.4725849775301, 322.8359508806838, 115.3332715735205, 134.40669389692772, 436.76382681064115, 99.03644773076492, 46.39683168034886, 448.18607191014155, 466.3252762917248, 15.503517136157274, 22.925982873215734, 400.3732370778019, 361.5987790169701, 275.3846281417486, 190.98489367857889, 333.12519974507194, 302.38009015926633, 326.355470932698, 295.50554398883395, 438.73550735083575, 54.37370965175364, 201.3683556690127, 389.0690491359697, 166.6925157846014, 245.07176095355481, 246.66442491392345, 390.137035595907, 117.93499204266195, 318.4083561297176, 402.9870614918566, 343.35496511066964, 100.18774132742986, 40.70011620714242, 173.73023707794258, 487.414215972548, 376.41582568761686, 209.84866823469955, 205.21287420012214, 70.53979794123597, 136.57328794984966, 355.56087755755783, 337.55892562561286, 201.5601303134281, 232.03400517413417, 279.603893607315, 431.3055768157842, 391.70725731995964, 392.60180992357283, 66.31059098190029, 261.71256960346517, 187.9117047546546, 243.4869066237743, 75.07404368759623, 340.1490150780134, 403.21422223280223, 167.74955673727248, 333.5307873733313, 415.1987717160697, 24.273453247350307], \"y\": [434.55751371019477, 438.934136212734, 419.90453774636, 492.31641190754, 404.01780054047015, 135.20651640033077, 76.43408294214038, 353.06990207008164, 366.6811613734512, 145.59642688419657, 314.04026011357934, 16.355147337662135, 424.5626355561188, 172.9960448855888, 476.8481791032582, 9.151688287125868, 75.31440348436664, 149.03070133546439, 205.395164650859, 16.20310780180001, 1.6427669520882038, 68.01981026325987, 275.344710961698, 199.06883062851196, 400.40342331580706, 294.2144788327755, 404.5462234154833, 475.46301903677255, 291.29756057409304, 63.424316825181855, 104.20928384906874, 197.45650453002045, 1.2673484583733408, 133.55354658127578, 187.87410883221213, 263.8216233527437, 92.32633220423908, 36.05695577692508, 238.78424978295962, 15.547806139596775, 93.09094443995569, 381.53962632414436, 134.3486308145409, 370.3131490243602, 381.8351595981522, 395.94675451757723, 87.3803483648762, 410.7441644190258, 4.250556647049764, 374.5355743859543, 446.2929603855296, 385.9204024973217, 131.08575300066715, 209.4484421767524, 250.52492723417362, 452.03645687911165, 29.59542632523349, 474.5961230905788, 407.53419780455147, 284.37238651357865, 389.99345549068437, 249.35877190642964, 292.99024137927836, 324.0055568785401, 173.99026936940166, 287.11302973746945, 67.51263314881234, 276.77239636801164, 59.75465989430728, 469.58446073825485, 240.7580431588994, 227.8814595509726, 211.97324738462157, 420.96423928048205, 395.6229048037571, 364.84358296944674, 183.74633439085684, 104.34213797760216, 473.01425497446564, 340.27310208090864, 422.8072647869326, 131.8592470246362, 213.7969518433474, 489.9300865335125, 490.0592872062882, 414.8182502080759, 477.1330215811223, 460.1641100598762, 210.7477910553088, 290.31986816586533]}],\n",
       "                        {\"template\": {\"data\": {\"bar\": [{\"error_x\": {\"color\": \"#2a3f5f\"}, \"error_y\": {\"color\": \"#2a3f5f\"}, \"marker\": {\"line\": {\"color\": \"#E5ECF6\", \"width\": 0.5}}, \"type\": \"bar\"}], \"barpolar\": [{\"marker\": {\"line\": {\"color\": \"#E5ECF6\", \"width\": 0.5}}, \"type\": \"barpolar\"}], \"carpet\": [{\"aaxis\": {\"endlinecolor\": \"#2a3f5f\", \"gridcolor\": \"white\", \"linecolor\": \"white\", \"minorgridcolor\": \"white\", \"startlinecolor\": \"#2a3f5f\"}, \"baxis\": {\"endlinecolor\": \"#2a3f5f\", \"gridcolor\": \"white\", \"linecolor\": \"white\", \"minorgridcolor\": \"white\", \"startlinecolor\": \"#2a3f5f\"}, \"type\": \"carpet\"}], \"choropleth\": [{\"colorbar\": {\"outlinewidth\": 0, \"ticks\": \"\"}, \"type\": \"choropleth\"}], \"contour\": [{\"colorbar\": {\"outlinewidth\": 0, \"ticks\": \"\"}, \"colorscale\": [[0.0, \"#0d0887\"], [0.1111111111111111, \"#46039f\"], [0.2222222222222222, \"#7201a8\"], [0.3333333333333333, \"#9c179e\"], [0.4444444444444444, \"#bd3786\"], [0.5555555555555556, \"#d8576b\"], [0.6666666666666666, \"#ed7953\"], [0.7777777777777778, \"#fb9f3a\"], [0.8888888888888888, \"#fdca26\"], [1.0, \"#f0f921\"]], \"type\": \"contour\"}], \"contourcarpet\": [{\"colorbar\": {\"outlinewidth\": 0, \"ticks\": \"\"}, \"type\": \"contourcarpet\"}], \"heatmap\": [{\"colorbar\": {\"outlinewidth\": 0, \"ticks\": \"\"}, \"colorscale\": [[0.0, \"#0d0887\"], [0.1111111111111111, \"#46039f\"], [0.2222222222222222, \"#7201a8\"], [0.3333333333333333, \"#9c179e\"], [0.4444444444444444, \"#bd3786\"], [0.5555555555555556, \"#d8576b\"], [0.6666666666666666, \"#ed7953\"], [0.7777777777777778, \"#fb9f3a\"], [0.8888888888888888, \"#fdca26\"], [1.0, \"#f0f921\"]], \"type\": \"heatmap\"}], \"heatmapgl\": [{\"colorbar\": {\"outlinewidth\": 0, \"ticks\": \"\"}, \"colorscale\": [[0.0, \"#0d0887\"], [0.1111111111111111, \"#46039f\"], [0.2222222222222222, \"#7201a8\"], [0.3333333333333333, \"#9c179e\"], [0.4444444444444444, \"#bd3786\"], [0.5555555555555556, \"#d8576b\"], [0.6666666666666666, \"#ed7953\"], [0.7777777777777778, \"#fb9f3a\"], [0.8888888888888888, \"#fdca26\"], [1.0, \"#f0f921\"]], \"type\": \"heatmapgl\"}], \"histogram\": [{\"marker\": {\"colorbar\": {\"outlinewidth\": 0, \"ticks\": \"\"}}, \"type\": \"histogram\"}], \"histogram2d\": [{\"colorbar\": {\"outlinewidth\": 0, \"ticks\": \"\"}, \"colorscale\": [[0.0, \"#0d0887\"], [0.1111111111111111, \"#46039f\"], [0.2222222222222222, \"#7201a8\"], [0.3333333333333333, \"#9c179e\"], [0.4444444444444444, \"#bd3786\"], [0.5555555555555556, \"#d8576b\"], [0.6666666666666666, \"#ed7953\"], [0.7777777777777778, \"#fb9f3a\"], [0.8888888888888888, \"#fdca26\"], [1.0, \"#f0f921\"]], \"type\": \"histogram2d\"}], \"histogram2dcontour\": [{\"colorbar\": {\"outlinewidth\": 0, \"ticks\": \"\"}, \"colorscale\": [[0.0, \"#0d0887\"], [0.1111111111111111, \"#46039f\"], [0.2222222222222222, \"#7201a8\"], [0.3333333333333333, \"#9c179e\"], [0.4444444444444444, \"#bd3786\"], [0.5555555555555556, \"#d8576b\"], [0.6666666666666666, \"#ed7953\"], [0.7777777777777778, \"#fb9f3a\"], [0.8888888888888888, \"#fdca26\"], [1.0, \"#f0f921\"]], \"type\": \"histogram2dcontour\"}], \"mesh3d\": [{\"colorbar\": {\"outlinewidth\": 0, \"ticks\": \"\"}, \"type\": \"mesh3d\"}], \"parcoords\": [{\"line\": {\"colorbar\": {\"outlinewidth\": 0, \"ticks\": \"\"}}, \"type\": \"parcoords\"}], \"pie\": [{\"automargin\": true, \"type\": \"pie\"}], \"scatter\": [{\"marker\": {\"colorbar\": {\"outlinewidth\": 0, \"ticks\": \"\"}}, \"type\": \"scatter\"}], \"scatter3d\": [{\"line\": {\"colorbar\": {\"outlinewidth\": 0, \"ticks\": \"\"}}, \"marker\": {\"colorbar\": {\"outlinewidth\": 0, \"ticks\": \"\"}}, \"type\": \"scatter3d\"}], \"scattercarpet\": [{\"marker\": {\"colorbar\": {\"outlinewidth\": 0, \"ticks\": \"\"}}, \"type\": \"scattercarpet\"}], \"scattergeo\": [{\"marker\": {\"colorbar\": {\"outlinewidth\": 0, \"ticks\": \"\"}}, \"type\": \"scattergeo\"}], \"scattergl\": [{\"marker\": {\"colorbar\": {\"outlinewidth\": 0, \"ticks\": \"\"}}, \"type\": \"scattergl\"}], \"scattermapbox\": [{\"marker\": {\"colorbar\": {\"outlinewidth\": 0, \"ticks\": \"\"}}, \"type\": \"scattermapbox\"}], \"scatterpolar\": [{\"marker\": {\"colorbar\": {\"outlinewidth\": 0, \"ticks\": \"\"}}, \"type\": \"scatterpolar\"}], \"scatterpolargl\": [{\"marker\": {\"colorbar\": {\"outlinewidth\": 0, \"ticks\": \"\"}}, \"type\": \"scatterpolargl\"}], \"scatterternary\": [{\"marker\": {\"colorbar\": {\"outlinewidth\": 0, \"ticks\": \"\"}}, \"type\": \"scatterternary\"}], \"surface\": [{\"colorbar\": {\"outlinewidth\": 0, \"ticks\": \"\"}, \"colorscale\": [[0.0, \"#0d0887\"], [0.1111111111111111, \"#46039f\"], [0.2222222222222222, \"#7201a8\"], [0.3333333333333333, \"#9c179e\"], [0.4444444444444444, \"#bd3786\"], [0.5555555555555556, \"#d8576b\"], [0.6666666666666666, \"#ed7953\"], [0.7777777777777778, \"#fb9f3a\"], [0.8888888888888888, \"#fdca26\"], [1.0, \"#f0f921\"]], \"type\": \"surface\"}], \"table\": [{\"cells\": {\"fill\": {\"color\": \"#EBF0F8\"}, \"line\": {\"color\": \"white\"}}, \"header\": {\"fill\": {\"color\": \"#C8D4E3\"}, \"line\": {\"color\": \"white\"}}, \"type\": \"table\"}]}, \"layout\": {\"annotationdefaults\": {\"arrowcolor\": \"#2a3f5f\", \"arrowhead\": 0, \"arrowwidth\": 1}, \"coloraxis\": {\"colorbar\": {\"outlinewidth\": 0, \"ticks\": \"\"}}, \"colorscale\": {\"diverging\": [[0, \"#8e0152\"], [0.1, \"#c51b7d\"], [0.2, \"#de77ae\"], [0.3, \"#f1b6da\"], [0.4, \"#fde0ef\"], [0.5, \"#f7f7f7\"], [0.6, \"#e6f5d0\"], [0.7, \"#b8e186\"], [0.8, \"#7fbc41\"], [0.9, \"#4d9221\"], [1, \"#276419\"]], \"sequential\": [[0.0, \"#0d0887\"], [0.1111111111111111, \"#46039f\"], [0.2222222222222222, \"#7201a8\"], [0.3333333333333333, \"#9c179e\"], [0.4444444444444444, \"#bd3786\"], [0.5555555555555556, \"#d8576b\"], [0.6666666666666666, \"#ed7953\"], [0.7777777777777778, \"#fb9f3a\"], [0.8888888888888888, \"#fdca26\"], [1.0, \"#f0f921\"]], \"sequentialminus\": [[0.0, \"#0d0887\"], [0.1111111111111111, \"#46039f\"], [0.2222222222222222, \"#7201a8\"], [0.3333333333333333, \"#9c179e\"], [0.4444444444444444, \"#bd3786\"], [0.5555555555555556, \"#d8576b\"], [0.6666666666666666, \"#ed7953\"], [0.7777777777777778, \"#fb9f3a\"], [0.8888888888888888, \"#fdca26\"], [1.0, \"#f0f921\"]]}, \"colorway\": [\"#636efa\", \"#EF553B\", \"#00cc96\", \"#ab63fa\", \"#FFA15A\", \"#19d3f3\", \"#FF6692\", \"#B6E880\", \"#FF97FF\", \"#FECB52\"], \"font\": {\"color\": \"#2a3f5f\"}, \"geo\": {\"bgcolor\": \"white\", \"lakecolor\": \"white\", \"landcolor\": \"#E5ECF6\", \"showlakes\": true, \"showland\": true, \"subunitcolor\": \"white\"}, \"hoverlabel\": {\"align\": \"left\"}, \"hovermode\": \"closest\", \"mapbox\": {\"style\": \"light\"}, \"paper_bgcolor\": \"white\", \"plot_bgcolor\": \"#E5ECF6\", \"polar\": {\"angularaxis\": {\"gridcolor\": \"white\", \"linecolor\": \"white\", \"ticks\": \"\"}, \"bgcolor\": \"#E5ECF6\", \"radialaxis\": {\"gridcolor\": \"white\", \"linecolor\": \"white\", \"ticks\": \"\"}}, \"scene\": {\"xaxis\": {\"backgroundcolor\": \"#E5ECF6\", \"gridcolor\": \"white\", \"gridwidth\": 2, \"linecolor\": \"white\", \"showbackground\": true, \"ticks\": \"\", \"zerolinecolor\": \"white\"}, \"yaxis\": {\"backgroundcolor\": \"#E5ECF6\", \"gridcolor\": \"white\", \"gridwidth\": 2, \"linecolor\": \"white\", \"showbackground\": true, \"ticks\": \"\", \"zerolinecolor\": \"white\"}, \"zaxis\": {\"backgroundcolor\": \"#E5ECF6\", \"gridcolor\": \"white\", \"gridwidth\": 2, \"linecolor\": \"white\", \"showbackground\": true, \"ticks\": \"\", \"zerolinecolor\": \"white\"}}, \"shapedefaults\": {\"line\": {\"color\": \"#2a3f5f\"}}, \"ternary\": {\"aaxis\": {\"gridcolor\": \"white\", \"linecolor\": \"white\", \"ticks\": \"\"}, \"baxis\": {\"gridcolor\": \"white\", \"linecolor\": \"white\", \"ticks\": \"\"}, \"bgcolor\": \"#E5ECF6\", \"caxis\": {\"gridcolor\": \"white\", \"linecolor\": \"white\", \"ticks\": \"\"}}, \"title\": {\"x\": 0.05}, \"xaxis\": {\"automargin\": true, \"gridcolor\": \"white\", \"linecolor\": \"white\", \"ticks\": \"\", \"title\": {\"standoff\": 15}, \"zerolinecolor\": \"white\", \"zerolinewidth\": 2}, \"yaxis\": {\"automargin\": true, \"gridcolor\": \"white\", \"linecolor\": \"white\", \"ticks\": \"\", \"title\": {\"standoff\": 15}, \"zerolinecolor\": \"white\", \"zerolinewidth\": 2}}}, \"title\": {\"text\": \"Initial\"}, \"updatemenus\": [{\"buttons\": [{\"args\": [null], \"label\": \"Play\", \"method\": \"animate\"}], \"type\": \"buttons\"}]},\n",
       "                        {\"responsive\": true}\n",
       "                    ).then(function(){\n",
       "                            Plotly.addFrames('298cbc72-fd6b-46bb-a308-52a0873ca65e', [{\"data\": [{\"marker\": {\"color\": [\"red\", \"red\", \"red\", \"red\", \"red\", \"red\", \"red\", \"red\", \"red\", \"red\", \"red\", \"red\", \"red\", \"red\", \"red\", \"red\", \"red\", \"red\", \"red\", \"red\", \"red\", \"red\", \"red\", \"red\", \"red\", \"red\", \"red\", \"red\", \"red\", \"red\", \"green\", \"green\", \"green\", \"green\", \"green\", \"green\", \"green\", \"green\", \"green\", \"green\", \"green\", \"green\", \"green\", \"green\", \"green\", \"green\", \"green\", \"green\", \"green\", \"green\", \"green\", \"green\", \"green\", \"green\", \"green\", \"green\", \"green\", \"green\", \"green\", \"green\", \"blue\", \"blue\", \"blue\", \"blue\", \"blue\", \"blue\", \"blue\", \"blue\", \"blue\", \"blue\", \"blue\", \"blue\", \"blue\", \"blue\", \"blue\", \"blue\", \"blue\", \"blue\", \"blue\", \"blue\", \"blue\", \"blue\", \"blue\", \"blue\", \"blue\", \"blue\", \"blue\", \"blue\", \"blue\", \"blue\"]}, \"mode\": \"markers\", \"x\": [90.75584668916012, 84.1896066497078, 112.12184474773792, 116.74726615961323, 97.93840664961658, 104.02750275651955, 86.56590016261661, 106.34273632022268, 112.80106451084309, 113.04824126792809, 59.386767170530256, 106.10932283309396, 102.67390108356308, 110.43346092247242, 107.42325016129485, 96.30033742380958, 119.5110160447247, 104.4038560207679, 145.01868752328159, 60.72706173856358, 83.66906400139905, 97.835562279214, 93.2484444136512, 107.17445860631041, 113.62329497033896, 105.99568137761351, 97.0551928335592, 79.4324614192561, 96.73176023955557, 85.18970242949561, 224.86035596607186, 223.221163418267, 197.9557160667931, 255.93232536195598, 214.48537323066242, 251.35538297180503, 229.95081868939343, 250.1196723074273, 227.89194135533276, 226.97419906119976, 211.4453536178937, 217.6642513181342, 200.00196517027786, 242.92811322188442, 238.4417183842289, 216.20331880568418, 246.3447542337889, 229.1326576273109, 191.0097281545669, 232.27542756107465, 259.51325471414407, 201.3804794068146, 220.49650692135867, 245.56824891509387, 225.20643806671558, 226.0874507015087, 194.8695355706552, 209.59200707541237, 219.32177892327343, 223.86231709191773, 278.953089018564, 310.99044591232143, 300.18822736988164, 327.95592607094426, 281.0914330077054, 284.23817234676693, 306.94120819938587, 334.0471234082148, 315.34819875906504, 340.53298769523127, 302.5938916079953, 332.5097215783313, 322.0355997015, 323.20372337085803, 317.54531697960056, 336.97011206313107, 294.48766621773257, 297.2236164280178, 295.84872722280954, 311.394278023762, 323.39535982286543, 289.8241459700507, 306.48816268112165, 284.3088986586671, 289.8945248480923, 298.8023407282143, 322.5768223512296, 293.64443800718675, 304.09224097284283, 320.8286498685931], \"y\": [171.36305145599832, 182.8909026601121, 144.2885557461066, 170.04975633076566, 181.777689320059, 154.6404977893314, 172.1955609914016, 160.08140705574297, 179.7578317983617, 142.919023074974, 213.0727175617316, 149.3466941985945, 166.09376036653245, 161.658642978131, 180.88518921787647, 181.8107826798447, 186.1150797054459, 205.33817851170383, 154.85496148836398, 174.75143976043174, 176.1055854257733, 181.89675587226427, 151.5701268215669, 174.46339721268745, 168.15766712015002, 176.1022108019683, 175.37049869445522, 199.35721767489486, 154.21001042247926, 205.26424796444385, 338.515162590575, 301.75663044274836, 279.8278967010393, 327.23430560364983, 295.37012964756264, 332.9711076906101, 311.36263928688714, 328.0405751895687, 317.67365492555786, 334.89880107541376, 337.639930338434, 315.6740535797863, 344.5445501130185, 337.00669188462604, 342.682671445092, 316.07576189968836, 339.5826248232415, 310.26541371470506, 312.27460040777044, 357.96155828815284, 336.9949033978265, 341.4716879702023, 315.6149840460731, 351.85873209260063, 317.5303176603673, 333.2321713527934, 295.01509218068287, 310.01469037793726, 351.0723018636541, 314.1289396454004, 144.8466066985989, 125.15385180358182, 116.24937081600063, 161.04880587813562, 143.0892810879779, 128.02239164550275, 165.7166488675584, 137.32629834956057, 117.59284806415651, 137.59903786965106, 136.69964690094636, 103.09562841723415, 100.93690168009128, 101.01580853903258, 99.51243912114737, 107.80242593318808, 127.08414791285904, 163.91273130923838, 124.10982572043359, 128.97725975495507, 138.37372455427266, 162.7882268003007, 124.54083039297836, 97.89390785294714, 89.11589096602802, 149.8686982543653, 108.1781180270076, 130.64662308700736, 91.98403273142249, 119.71619543917214], \"type\": \"scatter\"}], \"layout\": {\"title\": {\"text\": \"final\"}}}]);\n",
       "                        }).then(function(){\n",
       "                            \n",
       "var gd = document.getElementById('298cbc72-fd6b-46bb-a308-52a0873ca65e');\n",
       "var x = new MutationObserver(function (mutations, observer) {{\n",
       "        var display = window.getComputedStyle(gd).display;\n",
       "        if (!display || display === 'none') {{\n",
       "            console.log([gd, 'removed!']);\n",
       "            Plotly.purge(gd);\n",
       "            observer.disconnect();\n",
       "        }}\n",
       "}});\n",
       "\n",
       "// Listen for the removal of the full notebook cells\n",
       "var notebookContainer = gd.closest('#notebook-container');\n",
       "if (notebookContainer) {{\n",
       "    x.observe(notebookContainer, {childList: true});\n",
       "}}\n",
       "\n",
       "// Listen for the clearing of the current output cell\n",
       "var outputEl = gd.closest('.output');\n",
       "if (outputEl) {{\n",
       "    x.observe(outputEl, {childList: true});\n",
       "}}\n",
       "\n",
       "                        })\n",
       "                };\n",
       "                });\n",
       "            </script>\n",
       "        </div>"
      ]
     },
     "metadata": {},
     "output_type": "display_data"
    }
   ],
   "source": [
    "import plotly.graph_objects as go\n",
    "\n",
    "fig1 = go.Figure(\n",
    "    data=[go.Scatter(\n",
    "        x=df.Xi.values, \n",
    "        y=df.Yi.values, \n",
    "        mode='markers', \n",
    "        marker={'color': df.color.values})\n",
    "         ],\n",
    "    layout=go.Layout(\n",
    "        #xaxis=dict(range=[0, 5], autorange=False),\n",
    "        #yaxis=dict(range=[0, 5], autorange=False),\n",
    "        title=\"Initial\",\n",
    "        updatemenus=[dict(\n",
    "            type=\"buttons\",\n",
    "            buttons=[dict(label=\"Play\",\n",
    "                          method=\"animate\",\n",
    "                          args=[None])])]\n",
    "    ),\n",
    "    frames=[go.Frame(data=[go.Scatter(\n",
    "        x=df.Xf.values, \n",
    "        y=df.Yf.values, \n",
    "        mode='markers', \n",
    "        marker={'color': df.color.values})],\n",
    "                     layout=go.Layout(title_text=\"final\"))]\n",
    ")\n",
    "\n",
    "fig1.show()"
   ]
  },
  {
   "cell_type": "code",
   "execution_count": 87,
   "metadata": {},
   "outputs": [
    {
     "data": {
      "application/vnd.plotly.v1+json": {
       "config": {
        "plotlyServerURL": "https://plot.ly"
       },
       "data": [
        {
         "hovertemplate": "color=red<br>intial=1<br>x=%{x}<br>y=%{y}<extra></extra>",
         "legendgroup": "red",
         "marker": {
          "color": "#636efa",
          "symbol": "circle"
         },
         "mode": "markers",
         "name": "red",
         "orientation": "v",
         "showlegend": true,
         "type": "scatter",
         "x": [
          434.55751371019477,
          438.934136212734,
          419.90453774636,
          492.31641190754,
          404.01780054047015,
          135.20651640033077,
          76.43408294214038,
          353.06990207008164,
          366.6811613734512,
          145.59642688419657,
          314.04026011357934,
          16.355147337662135,
          424.5626355561188,
          172.9960448855888,
          476.8481791032582,
          9.151688287125868,
          75.31440348436664,
          149.03070133546439,
          205.395164650859,
          16.20310780180001,
          1.6427669520882038,
          68.01981026325987,
          275.344710961698,
          199.06883062851196,
          400.40342331580706,
          294.2144788327755,
          404.5462234154833,
          475.46301903677255,
          291.29756057409304,
          63.424316825181855
         ],
         "xaxis": "x",
         "y": [
          109.36064277774466,
          55.95735794900907,
          369.1159692686163,
          491.3927390873703,
          34.286601741833785,
          316.6157031813405,
          265.5907432464507,
          430.73261675172614,
          60.99739655005153,
          189.8583139661716,
          304.39566027156826,
          400.09145406755584,
          70.89943133703758,
          198.6847865725222,
          179.48252978440414,
          250.78207193262628,
          430.81243126591187,
          413.83768817585985,
          276.22183151368324,
          471.4185727690705,
          154.6045405211059,
          182.1489173971974,
          101.51550150251032,
          121.37445607817648,
          44.976967759804815,
          384.5840894190522,
          17.785078725646166,
          202.3047727105588,
          325.37924405603377,
          192.17782462920928
         ],
         "yaxis": "y"
        },
        {
         "hovertemplate": "color=green<br>intial=1<br>x=%{x}<br>y=%{y}<extra></extra>",
         "legendgroup": "green",
         "marker": {
          "color": "#EF553B",
          "symbol": "circle"
         },
         "mode": "markers",
         "name": "green",
         "orientation": "v",
         "showlegend": true,
         "type": "scatter",
         "x": [
          104.20928384906874,
          197.45650453002045,
          1.2673484583733408,
          133.55354658127578,
          187.87410883221213,
          263.8216233527437,
          92.32633220423908,
          36.05695577692508,
          238.78424978295962,
          15.547806139596775,
          93.09094443995569,
          381.53962632414436,
          134.3486308145409,
          370.3131490243602,
          381.8351595981522,
          395.94675451757723,
          87.3803483648762,
          410.7441644190258,
          4.250556647049764,
          374.5355743859543,
          446.2929603855296,
          385.9204024973217,
          131.08575300066715,
          209.4484421767524,
          250.52492723417362,
          452.03645687911165,
          29.59542632523349,
          474.5961230905788,
          407.53419780455147,
          284.37238651357865
         ],
         "xaxis": "x",
         "y": [
          448.90043797430536,
          257.4725849775301,
          322.8359508806838,
          115.3332715735205,
          134.40669389692772,
          436.76382681064115,
          99.03644773076492,
          46.39683168034886,
          448.18607191014155,
          466.3252762917248,
          15.503517136157274,
          22.925982873215734,
          400.3732370778019,
          361.5987790169701,
          275.3846281417486,
          190.98489367857889,
          333.12519974507194,
          302.38009015926633,
          326.355470932698,
          295.50554398883395,
          438.73550735083575,
          54.37370965175364,
          201.3683556690127,
          389.0690491359697,
          166.6925157846014,
          245.07176095355481,
          246.66442491392345,
          390.137035595907,
          117.93499204266195,
          318.4083561297176
         ],
         "yaxis": "y"
        },
        {
         "hovertemplate": "color=blue<br>intial=1<br>x=%{x}<br>y=%{y}<extra></extra>",
         "legendgroup": "blue",
         "marker": {
          "color": "#00cc96",
          "symbol": "circle"
         },
         "mode": "markers",
         "name": "blue",
         "orientation": "v",
         "showlegend": true,
         "type": "scatter",
         "x": [
          389.99345549068437,
          249.35877190642964,
          292.99024137927836,
          324.0055568785401,
          173.99026936940166,
          287.11302973746945,
          67.51263314881234,
          276.77239636801164,
          59.75465989430728,
          469.58446073825485,
          240.7580431588994,
          227.8814595509726,
          211.97324738462157,
          420.96423928048205,
          395.6229048037571,
          364.84358296944674,
          183.74633439085684,
          104.34213797760216,
          473.01425497446564,
          340.27310208090864,
          422.8072647869326,
          131.8592470246362,
          213.7969518433474,
          489.9300865335125,
          490.0592872062882,
          414.8182502080759,
          477.1330215811223,
          460.1641100598762,
          210.7477910553088,
          290.31986816586533
         ],
         "xaxis": "x",
         "y": [
          402.9870614918566,
          343.35496511066964,
          100.18774132742986,
          40.70011620714242,
          173.73023707794258,
          487.414215972548,
          376.41582568761686,
          209.84866823469955,
          205.21287420012214,
          70.53979794123597,
          136.57328794984966,
          355.56087755755783,
          337.55892562561286,
          201.5601303134281,
          232.03400517413417,
          279.603893607315,
          431.3055768157842,
          391.70725731995964,
          392.60180992357283,
          66.31059098190029,
          261.71256960346517,
          187.9117047546546,
          243.4869066237743,
          75.07404368759623,
          340.1490150780134,
          403.21422223280223,
          167.74955673727248,
          333.5307873733313,
          415.1987717160697,
          24.273453247350307
         ],
         "yaxis": "y"
        }
       ],
       "frames": [
        {
         "data": [
          {
           "hovertemplate": "color=red<br>intial=1<br>x=%{x}<br>y=%{y}<extra></extra>",
           "legendgroup": "red",
           "marker": {
            "color": "#636efa",
            "symbol": "circle"
           },
           "mode": "markers",
           "name": "red",
           "orientation": "v",
           "showlegend": true,
           "type": "scatter",
           "x": [
            434.55751371019477,
            438.934136212734,
            419.90453774636,
            492.31641190754,
            404.01780054047015,
            135.20651640033077,
            76.43408294214038,
            353.06990207008164,
            366.6811613734512,
            145.59642688419657,
            314.04026011357934,
            16.355147337662135,
            424.5626355561188,
            172.9960448855888,
            476.8481791032582,
            9.151688287125868,
            75.31440348436664,
            149.03070133546439,
            205.395164650859,
            16.20310780180001,
            1.6427669520882038,
            68.01981026325987,
            275.344710961698,
            199.06883062851196,
            400.40342331580706,
            294.2144788327755,
            404.5462234154833,
            475.46301903677255,
            291.29756057409304,
            63.424316825181855
           ],
           "xaxis": "x",
           "y": [
            109.36064277774466,
            55.95735794900907,
            369.1159692686163,
            491.3927390873703,
            34.286601741833785,
            316.6157031813405,
            265.5907432464507,
            430.73261675172614,
            60.99739655005153,
            189.8583139661716,
            304.39566027156826,
            400.09145406755584,
            70.89943133703758,
            198.6847865725222,
            179.48252978440414,
            250.78207193262628,
            430.81243126591187,
            413.83768817585985,
            276.22183151368324,
            471.4185727690705,
            154.6045405211059,
            182.1489173971974,
            101.51550150251032,
            121.37445607817648,
            44.976967759804815,
            384.5840894190522,
            17.785078725646166,
            202.3047727105588,
            325.37924405603377,
            192.17782462920928
           ],
           "yaxis": "y"
          },
          {
           "hovertemplate": "color=green<br>intial=1<br>x=%{x}<br>y=%{y}<extra></extra>",
           "legendgroup": "green",
           "marker": {
            "color": "#EF553B",
            "symbol": "circle"
           },
           "mode": "markers",
           "name": "green",
           "orientation": "v",
           "showlegend": true,
           "type": "scatter",
           "x": [
            104.20928384906874,
            197.45650453002045,
            1.2673484583733408,
            133.55354658127578,
            187.87410883221213,
            263.8216233527437,
            92.32633220423908,
            36.05695577692508,
            238.78424978295962,
            15.547806139596775,
            93.09094443995569,
            381.53962632414436,
            134.3486308145409,
            370.3131490243602,
            381.8351595981522,
            395.94675451757723,
            87.3803483648762,
            410.7441644190258,
            4.250556647049764,
            374.5355743859543,
            446.2929603855296,
            385.9204024973217,
            131.08575300066715,
            209.4484421767524,
            250.52492723417362,
            452.03645687911165,
            29.59542632523349,
            474.5961230905788,
            407.53419780455147,
            284.37238651357865
           ],
           "xaxis": "x",
           "y": [
            448.90043797430536,
            257.4725849775301,
            322.8359508806838,
            115.3332715735205,
            134.40669389692772,
            436.76382681064115,
            99.03644773076492,
            46.39683168034886,
            448.18607191014155,
            466.3252762917248,
            15.503517136157274,
            22.925982873215734,
            400.3732370778019,
            361.5987790169701,
            275.3846281417486,
            190.98489367857889,
            333.12519974507194,
            302.38009015926633,
            326.355470932698,
            295.50554398883395,
            438.73550735083575,
            54.37370965175364,
            201.3683556690127,
            389.0690491359697,
            166.6925157846014,
            245.07176095355481,
            246.66442491392345,
            390.137035595907,
            117.93499204266195,
            318.4083561297176
           ],
           "yaxis": "y"
          },
          {
           "hovertemplate": "color=blue<br>intial=1<br>x=%{x}<br>y=%{y}<extra></extra>",
           "legendgroup": "blue",
           "marker": {
            "color": "#00cc96",
            "symbol": "circle"
           },
           "mode": "markers",
           "name": "blue",
           "orientation": "v",
           "showlegend": true,
           "type": "scatter",
           "x": [
            389.99345549068437,
            249.35877190642964,
            292.99024137927836,
            324.0055568785401,
            173.99026936940166,
            287.11302973746945,
            67.51263314881234,
            276.77239636801164,
            59.75465989430728,
            469.58446073825485,
            240.7580431588994,
            227.8814595509726,
            211.97324738462157,
            420.96423928048205,
            395.6229048037571,
            364.84358296944674,
            183.74633439085684,
            104.34213797760216,
            473.01425497446564,
            340.27310208090864,
            422.8072647869326,
            131.8592470246362,
            213.7969518433474,
            489.9300865335125,
            490.0592872062882,
            414.8182502080759,
            477.1330215811223,
            460.1641100598762,
            210.7477910553088,
            290.31986816586533
           ],
           "xaxis": "x",
           "y": [
            402.9870614918566,
            343.35496511066964,
            100.18774132742986,
            40.70011620714242,
            173.73023707794258,
            487.414215972548,
            376.41582568761686,
            209.84866823469955,
            205.21287420012214,
            70.53979794123597,
            136.57328794984966,
            355.56087755755783,
            337.55892562561286,
            201.5601303134281,
            232.03400517413417,
            279.603893607315,
            431.3055768157842,
            391.70725731995964,
            392.60180992357283,
            66.31059098190029,
            261.71256960346517,
            187.9117047546546,
            243.4869066237743,
            75.07404368759623,
            340.1490150780134,
            403.21422223280223,
            167.74955673727248,
            333.5307873733313,
            415.1987717160697,
            24.273453247350307
           ],
           "yaxis": "y"
          }
         ],
         "name": "1"
        },
        {
         "data": [
          {
           "hovertemplate": "color=red<br>intial=0<br>x=%{x}<br>y=%{y}<extra></extra>",
           "legendgroup": "red",
           "marker": {
            "color": "#636efa",
            "symbol": "circle"
           },
           "mode": "markers",
           "name": "red",
           "orientation": "v",
           "showlegend": true,
           "type": "scatter",
           "x": [
            171.36305145599832,
            182.8909026601121,
            144.2885557461066,
            170.04975633076566,
            181.777689320059,
            154.6404977893314,
            172.1955609914016,
            160.08140705574297,
            179.7578317983617,
            142.919023074974,
            213.0727175617316,
            149.3466941985945,
            166.09376036653245,
            161.658642978131,
            180.88518921787647,
            181.8107826798447,
            186.1150797054459,
            205.33817851170383,
            154.85496148836398,
            174.75143976043174,
            176.1055854257733,
            181.89675587226427,
            151.5701268215669,
            174.46339721268745,
            168.15766712015002,
            176.1022108019683,
            175.37049869445522,
            199.35721767489486,
            154.21001042247926,
            205.26424796444385
           ],
           "xaxis": "x",
           "y": [
            90.75584668916012,
            84.1896066497078,
            112.12184474773792,
            116.74726615961323,
            97.93840664961658,
            104.02750275651955,
            86.56590016261661,
            106.34273632022268,
            112.80106451084309,
            113.04824126792809,
            59.386767170530256,
            106.10932283309396,
            102.67390108356308,
            110.43346092247242,
            107.42325016129485,
            96.30033742380958,
            119.5110160447247,
            104.4038560207679,
            145.01868752328159,
            60.72706173856358,
            83.66906400139905,
            97.835562279214,
            93.2484444136512,
            107.17445860631041,
            113.62329497033896,
            105.99568137761351,
            97.0551928335592,
            79.4324614192561,
            96.73176023955557,
            85.18970242949561
           ],
           "yaxis": "y"
          },
          {
           "hovertemplate": "color=green<br>intial=0<br>x=%{x}<br>y=%{y}<extra></extra>",
           "legendgroup": "green",
           "marker": {
            "color": "#EF553B",
            "symbol": "circle"
           },
           "mode": "markers",
           "name": "green",
           "orientation": "v",
           "showlegend": true,
           "type": "scatter",
           "x": [
            338.515162590575,
            301.75663044274836,
            279.8278967010393,
            327.23430560364983,
            295.37012964756264,
            332.9711076906101,
            311.36263928688714,
            328.0405751895687,
            317.67365492555786,
            334.89880107541376,
            337.639930338434,
            315.6740535797863,
            344.5445501130185,
            337.00669188462604,
            342.682671445092,
            316.07576189968836,
            339.5826248232415,
            310.26541371470506,
            312.27460040777044,
            357.96155828815284,
            336.9949033978265,
            341.4716879702023,
            315.6149840460731,
            351.85873209260063,
            317.5303176603673,
            333.2321713527934,
            295.01509218068287,
            310.01469037793726,
            351.0723018636541,
            314.1289396454004
           ],
           "xaxis": "x",
           "y": [
            224.86035596607186,
            223.221163418267,
            197.9557160667931,
            255.93232536195598,
            214.48537323066242,
            251.35538297180503,
            229.95081868939343,
            250.1196723074273,
            227.89194135533276,
            226.97419906119976,
            211.4453536178937,
            217.6642513181342,
            200.00196517027786,
            242.92811322188442,
            238.4417183842289,
            216.20331880568418,
            246.3447542337889,
            229.1326576273109,
            191.0097281545669,
            232.27542756107465,
            259.51325471414407,
            201.3804794068146,
            220.49650692135867,
            245.56824891509387,
            225.20643806671558,
            226.0874507015087,
            194.8695355706552,
            209.59200707541237,
            219.32177892327343,
            223.86231709191773
           ],
           "yaxis": "y"
          },
          {
           "hovertemplate": "color=blue<br>intial=0<br>x=%{x}<br>y=%{y}<extra></extra>",
           "legendgroup": "blue",
           "marker": {
            "color": "#00cc96",
            "symbol": "circle"
           },
           "mode": "markers",
           "name": "blue",
           "orientation": "v",
           "showlegend": true,
           "type": "scatter",
           "x": [
            144.8466066985989,
            125.15385180358182,
            116.24937081600063,
            161.04880587813562,
            143.0892810879779,
            128.02239164550275,
            165.7166488675584,
            137.32629834956057,
            117.59284806415651,
            137.59903786965106,
            136.69964690094636,
            103.09562841723415,
            100.93690168009128,
            101.01580853903258,
            99.51243912114737,
            107.80242593318808,
            127.08414791285904,
            163.91273130923838,
            124.10982572043359,
            128.97725975495507,
            138.37372455427266,
            162.7882268003007,
            124.54083039297836,
            97.89390785294714,
            89.11589096602802,
            149.8686982543653,
            108.1781180270076,
            130.64662308700736,
            91.98403273142249,
            119.71619543917214
           ],
           "xaxis": "x",
           "y": [
            278.953089018564,
            310.99044591232143,
            300.18822736988164,
            327.95592607094426,
            281.0914330077054,
            284.23817234676693,
            306.94120819938587,
            334.0471234082148,
            315.34819875906504,
            340.53298769523127,
            302.5938916079953,
            332.5097215783313,
            322.0355997015,
            323.20372337085803,
            317.54531697960056,
            336.97011206313107,
            294.48766621773257,
            297.2236164280178,
            295.84872722280954,
            311.394278023762,
            323.39535982286543,
            289.8241459700507,
            306.48816268112165,
            284.3088986586671,
            289.8945248480923,
            298.8023407282143,
            322.5768223512296,
            293.64443800718675,
            304.09224097284283,
            320.8286498685931
           ],
           "yaxis": "y"
          }
         ],
         "name": "0"
        }
       ],
       "layout": {
        "legend": {
         "title": {
          "text": "color"
         },
         "tracegroupgap": 0
        },
        "margin": {
         "t": 60
        },
        "sliders": [
         {
          "active": 0,
          "currentvalue": {
           "prefix": "intial="
          },
          "len": 0.9,
          "pad": {
           "b": 10,
           "t": 60
          },
          "steps": [
           {
            "args": [
             [
              "1"
             ],
             {
              "frame": {
               "duration": 0,
               "redraw": false
              },
              "fromcurrent": true,
              "mode": "immediate",
              "transition": {
               "duration": 0,
               "easing": "linear"
              }
             }
            ],
            "label": "1",
            "method": "animate"
           },
           {
            "args": [
             [
              "0"
             ],
             {
              "frame": {
               "duration": 0,
               "redraw": false
              },
              "fromcurrent": true,
              "mode": "immediate",
              "transition": {
               "duration": 0,
               "easing": "linear"
              }
             }
            ],
            "label": "0",
            "method": "animate"
           }
          ],
          "x": 0.1,
          "xanchor": "left",
          "y": 0,
          "yanchor": "top"
         }
        ],
        "template": {
         "data": {
          "bar": [
           {
            "error_x": {
             "color": "#2a3f5f"
            },
            "error_y": {
             "color": "#2a3f5f"
            },
            "marker": {
             "line": {
              "color": "#E5ECF6",
              "width": 0.5
             }
            },
            "type": "bar"
           }
          ],
          "barpolar": [
           {
            "marker": {
             "line": {
              "color": "#E5ECF6",
              "width": 0.5
             }
            },
            "type": "barpolar"
           }
          ],
          "carpet": [
           {
            "aaxis": {
             "endlinecolor": "#2a3f5f",
             "gridcolor": "white",
             "linecolor": "white",
             "minorgridcolor": "white",
             "startlinecolor": "#2a3f5f"
            },
            "baxis": {
             "endlinecolor": "#2a3f5f",
             "gridcolor": "white",
             "linecolor": "white",
             "minorgridcolor": "white",
             "startlinecolor": "#2a3f5f"
            },
            "type": "carpet"
           }
          ],
          "choropleth": [
           {
            "colorbar": {
             "outlinewidth": 0,
             "ticks": ""
            },
            "type": "choropleth"
           }
          ],
          "contour": [
           {
            "colorbar": {
             "outlinewidth": 0,
             "ticks": ""
            },
            "colorscale": [
             [
              0,
              "#0d0887"
             ],
             [
              0.1111111111111111,
              "#46039f"
             ],
             [
              0.2222222222222222,
              "#7201a8"
             ],
             [
              0.3333333333333333,
              "#9c179e"
             ],
             [
              0.4444444444444444,
              "#bd3786"
             ],
             [
              0.5555555555555556,
              "#d8576b"
             ],
             [
              0.6666666666666666,
              "#ed7953"
             ],
             [
              0.7777777777777778,
              "#fb9f3a"
             ],
             [
              0.8888888888888888,
              "#fdca26"
             ],
             [
              1,
              "#f0f921"
             ]
            ],
            "type": "contour"
           }
          ],
          "contourcarpet": [
           {
            "colorbar": {
             "outlinewidth": 0,
             "ticks": ""
            },
            "type": "contourcarpet"
           }
          ],
          "heatmap": [
           {
            "colorbar": {
             "outlinewidth": 0,
             "ticks": ""
            },
            "colorscale": [
             [
              0,
              "#0d0887"
             ],
             [
              0.1111111111111111,
              "#46039f"
             ],
             [
              0.2222222222222222,
              "#7201a8"
             ],
             [
              0.3333333333333333,
              "#9c179e"
             ],
             [
              0.4444444444444444,
              "#bd3786"
             ],
             [
              0.5555555555555556,
              "#d8576b"
             ],
             [
              0.6666666666666666,
              "#ed7953"
             ],
             [
              0.7777777777777778,
              "#fb9f3a"
             ],
             [
              0.8888888888888888,
              "#fdca26"
             ],
             [
              1,
              "#f0f921"
             ]
            ],
            "type": "heatmap"
           }
          ],
          "heatmapgl": [
           {
            "colorbar": {
             "outlinewidth": 0,
             "ticks": ""
            },
            "colorscale": [
             [
              0,
              "#0d0887"
             ],
             [
              0.1111111111111111,
              "#46039f"
             ],
             [
              0.2222222222222222,
              "#7201a8"
             ],
             [
              0.3333333333333333,
              "#9c179e"
             ],
             [
              0.4444444444444444,
              "#bd3786"
             ],
             [
              0.5555555555555556,
              "#d8576b"
             ],
             [
              0.6666666666666666,
              "#ed7953"
             ],
             [
              0.7777777777777778,
              "#fb9f3a"
             ],
             [
              0.8888888888888888,
              "#fdca26"
             ],
             [
              1,
              "#f0f921"
             ]
            ],
            "type": "heatmapgl"
           }
          ],
          "histogram": [
           {
            "marker": {
             "colorbar": {
              "outlinewidth": 0,
              "ticks": ""
             }
            },
            "type": "histogram"
           }
          ],
          "histogram2d": [
           {
            "colorbar": {
             "outlinewidth": 0,
             "ticks": ""
            },
            "colorscale": [
             [
              0,
              "#0d0887"
             ],
             [
              0.1111111111111111,
              "#46039f"
             ],
             [
              0.2222222222222222,
              "#7201a8"
             ],
             [
              0.3333333333333333,
              "#9c179e"
             ],
             [
              0.4444444444444444,
              "#bd3786"
             ],
             [
              0.5555555555555556,
              "#d8576b"
             ],
             [
              0.6666666666666666,
              "#ed7953"
             ],
             [
              0.7777777777777778,
              "#fb9f3a"
             ],
             [
              0.8888888888888888,
              "#fdca26"
             ],
             [
              1,
              "#f0f921"
             ]
            ],
            "type": "histogram2d"
           }
          ],
          "histogram2dcontour": [
           {
            "colorbar": {
             "outlinewidth": 0,
             "ticks": ""
            },
            "colorscale": [
             [
              0,
              "#0d0887"
             ],
             [
              0.1111111111111111,
              "#46039f"
             ],
             [
              0.2222222222222222,
              "#7201a8"
             ],
             [
              0.3333333333333333,
              "#9c179e"
             ],
             [
              0.4444444444444444,
              "#bd3786"
             ],
             [
              0.5555555555555556,
              "#d8576b"
             ],
             [
              0.6666666666666666,
              "#ed7953"
             ],
             [
              0.7777777777777778,
              "#fb9f3a"
             ],
             [
              0.8888888888888888,
              "#fdca26"
             ],
             [
              1,
              "#f0f921"
             ]
            ],
            "type": "histogram2dcontour"
           }
          ],
          "mesh3d": [
           {
            "colorbar": {
             "outlinewidth": 0,
             "ticks": ""
            },
            "type": "mesh3d"
           }
          ],
          "parcoords": [
           {
            "line": {
             "colorbar": {
              "outlinewidth": 0,
              "ticks": ""
             }
            },
            "type": "parcoords"
           }
          ],
          "pie": [
           {
            "automargin": true,
            "type": "pie"
           }
          ],
          "scatter": [
           {
            "marker": {
             "colorbar": {
              "outlinewidth": 0,
              "ticks": ""
             }
            },
            "type": "scatter"
           }
          ],
          "scatter3d": [
           {
            "line": {
             "colorbar": {
              "outlinewidth": 0,
              "ticks": ""
             }
            },
            "marker": {
             "colorbar": {
              "outlinewidth": 0,
              "ticks": ""
             }
            },
            "type": "scatter3d"
           }
          ],
          "scattercarpet": [
           {
            "marker": {
             "colorbar": {
              "outlinewidth": 0,
              "ticks": ""
             }
            },
            "type": "scattercarpet"
           }
          ],
          "scattergeo": [
           {
            "marker": {
             "colorbar": {
              "outlinewidth": 0,
              "ticks": ""
             }
            },
            "type": "scattergeo"
           }
          ],
          "scattergl": [
           {
            "marker": {
             "colorbar": {
              "outlinewidth": 0,
              "ticks": ""
             }
            },
            "type": "scattergl"
           }
          ],
          "scattermapbox": [
           {
            "marker": {
             "colorbar": {
              "outlinewidth": 0,
              "ticks": ""
             }
            },
            "type": "scattermapbox"
           }
          ],
          "scatterpolar": [
           {
            "marker": {
             "colorbar": {
              "outlinewidth": 0,
              "ticks": ""
             }
            },
            "type": "scatterpolar"
           }
          ],
          "scatterpolargl": [
           {
            "marker": {
             "colorbar": {
              "outlinewidth": 0,
              "ticks": ""
             }
            },
            "type": "scatterpolargl"
           }
          ],
          "scatterternary": [
           {
            "marker": {
             "colorbar": {
              "outlinewidth": 0,
              "ticks": ""
             }
            },
            "type": "scatterternary"
           }
          ],
          "surface": [
           {
            "colorbar": {
             "outlinewidth": 0,
             "ticks": ""
            },
            "colorscale": [
             [
              0,
              "#0d0887"
             ],
             [
              0.1111111111111111,
              "#46039f"
             ],
             [
              0.2222222222222222,
              "#7201a8"
             ],
             [
              0.3333333333333333,
              "#9c179e"
             ],
             [
              0.4444444444444444,
              "#bd3786"
             ],
             [
              0.5555555555555556,
              "#d8576b"
             ],
             [
              0.6666666666666666,
              "#ed7953"
             ],
             [
              0.7777777777777778,
              "#fb9f3a"
             ],
             [
              0.8888888888888888,
              "#fdca26"
             ],
             [
              1,
              "#f0f921"
             ]
            ],
            "type": "surface"
           }
          ],
          "table": [
           {
            "cells": {
             "fill": {
              "color": "#EBF0F8"
             },
             "line": {
              "color": "white"
             }
            },
            "header": {
             "fill": {
              "color": "#C8D4E3"
             },
             "line": {
              "color": "white"
             }
            },
            "type": "table"
           }
          ]
         },
         "layout": {
          "annotationdefaults": {
           "arrowcolor": "#2a3f5f",
           "arrowhead": 0,
           "arrowwidth": 1
          },
          "coloraxis": {
           "colorbar": {
            "outlinewidth": 0,
            "ticks": ""
           }
          },
          "colorscale": {
           "diverging": [
            [
             0,
             "#8e0152"
            ],
            [
             0.1,
             "#c51b7d"
            ],
            [
             0.2,
             "#de77ae"
            ],
            [
             0.3,
             "#f1b6da"
            ],
            [
             0.4,
             "#fde0ef"
            ],
            [
             0.5,
             "#f7f7f7"
            ],
            [
             0.6,
             "#e6f5d0"
            ],
            [
             0.7,
             "#b8e186"
            ],
            [
             0.8,
             "#7fbc41"
            ],
            [
             0.9,
             "#4d9221"
            ],
            [
             1,
             "#276419"
            ]
           ],
           "sequential": [
            [
             0,
             "#0d0887"
            ],
            [
             0.1111111111111111,
             "#46039f"
            ],
            [
             0.2222222222222222,
             "#7201a8"
            ],
            [
             0.3333333333333333,
             "#9c179e"
            ],
            [
             0.4444444444444444,
             "#bd3786"
            ],
            [
             0.5555555555555556,
             "#d8576b"
            ],
            [
             0.6666666666666666,
             "#ed7953"
            ],
            [
             0.7777777777777778,
             "#fb9f3a"
            ],
            [
             0.8888888888888888,
             "#fdca26"
            ],
            [
             1,
             "#f0f921"
            ]
           ],
           "sequentialminus": [
            [
             0,
             "#0d0887"
            ],
            [
             0.1111111111111111,
             "#46039f"
            ],
            [
             0.2222222222222222,
             "#7201a8"
            ],
            [
             0.3333333333333333,
             "#9c179e"
            ],
            [
             0.4444444444444444,
             "#bd3786"
            ],
            [
             0.5555555555555556,
             "#d8576b"
            ],
            [
             0.6666666666666666,
             "#ed7953"
            ],
            [
             0.7777777777777778,
             "#fb9f3a"
            ],
            [
             0.8888888888888888,
             "#fdca26"
            ],
            [
             1,
             "#f0f921"
            ]
           ]
          },
          "colorway": [
           "#636efa",
           "#EF553B",
           "#00cc96",
           "#ab63fa",
           "#FFA15A",
           "#19d3f3",
           "#FF6692",
           "#B6E880",
           "#FF97FF",
           "#FECB52"
          ],
          "font": {
           "color": "#2a3f5f"
          },
          "geo": {
           "bgcolor": "white",
           "lakecolor": "white",
           "landcolor": "#E5ECF6",
           "showlakes": true,
           "showland": true,
           "subunitcolor": "white"
          },
          "hoverlabel": {
           "align": "left"
          },
          "hovermode": "closest",
          "mapbox": {
           "style": "light"
          },
          "paper_bgcolor": "white",
          "plot_bgcolor": "#E5ECF6",
          "polar": {
           "angularaxis": {
            "gridcolor": "white",
            "linecolor": "white",
            "ticks": ""
           },
           "bgcolor": "#E5ECF6",
           "radialaxis": {
            "gridcolor": "white",
            "linecolor": "white",
            "ticks": ""
           }
          },
          "scene": {
           "xaxis": {
            "backgroundcolor": "#E5ECF6",
            "gridcolor": "white",
            "gridwidth": 2,
            "linecolor": "white",
            "showbackground": true,
            "ticks": "",
            "zerolinecolor": "white"
           },
           "yaxis": {
            "backgroundcolor": "#E5ECF6",
            "gridcolor": "white",
            "gridwidth": 2,
            "linecolor": "white",
            "showbackground": true,
            "ticks": "",
            "zerolinecolor": "white"
           },
           "zaxis": {
            "backgroundcolor": "#E5ECF6",
            "gridcolor": "white",
            "gridwidth": 2,
            "linecolor": "white",
            "showbackground": true,
            "ticks": "",
            "zerolinecolor": "white"
           }
          },
          "shapedefaults": {
           "line": {
            "color": "#2a3f5f"
           }
          },
          "ternary": {
           "aaxis": {
            "gridcolor": "white",
            "linecolor": "white",
            "ticks": ""
           },
           "baxis": {
            "gridcolor": "white",
            "linecolor": "white",
            "ticks": ""
           },
           "bgcolor": "#E5ECF6",
           "caxis": {
            "gridcolor": "white",
            "linecolor": "white",
            "ticks": ""
           }
          },
          "title": {
           "x": 0.05
          },
          "xaxis": {
           "automargin": true,
           "gridcolor": "white",
           "linecolor": "white",
           "ticks": "",
           "title": {
            "standoff": 15
           },
           "zerolinecolor": "white",
           "zerolinewidth": 2
          },
          "yaxis": {
           "automargin": true,
           "gridcolor": "white",
           "linecolor": "white",
           "ticks": "",
           "title": {
            "standoff": 15
           },
           "zerolinecolor": "white",
           "zerolinewidth": 2
          }
         }
        },
        "updatemenus": [
         {
          "buttons": [
           {
            "args": [
             null,
             {
              "frame": {
               "duration": 500,
               "redraw": false
              },
              "fromcurrent": true,
              "mode": "immediate",
              "transition": {
               "duration": 500,
               "easing": "linear"
              }
             }
            ],
            "label": "&#9654;",
            "method": "animate"
           },
           {
            "args": [
             [
              null
             ],
             {
              "frame": {
               "duration": 0,
               "redraw": false
              },
              "fromcurrent": true,
              "mode": "immediate",
              "transition": {
               "duration": 0,
               "easing": "linear"
              }
             }
            ],
            "label": "&#9724;",
            "method": "animate"
           }
          ],
          "direction": "left",
          "pad": {
           "r": 10,
           "t": 70
          },
          "showactive": false,
          "type": "buttons",
          "x": 0.1,
          "xanchor": "right",
          "y": 0,
          "yanchor": "top"
         }
        ],
        "xaxis": {
         "anchor": "y",
         "domain": [
          0,
          1
         ],
         "title": {
          "text": "x"
         }
        },
        "yaxis": {
         "anchor": "x",
         "domain": [
          0,
          1
         ],
         "title": {
          "text": "y"
         }
        }
       }
      },
      "text/html": [
       "<div>\n",
       "        \n",
       "        \n",
       "            <div id=\"995da757-478d-49f3-ba36-951a82717865\" class=\"plotly-graph-div\" style=\"height:525px; width:100%;\"></div>\n",
       "            <script type=\"text/javascript\">\n",
       "                require([\"plotly\"], function(Plotly) {\n",
       "                    window.PLOTLYENV=window.PLOTLYENV || {};\n",
       "                    \n",
       "                if (document.getElementById(\"995da757-478d-49f3-ba36-951a82717865\")) {\n",
       "                    Plotly.newPlot(\n",
       "                        '995da757-478d-49f3-ba36-951a82717865',\n",
       "                        [{\"hovertemplate\": \"color=red<br>intial=1<br>x=%{x}<br>y=%{y}<extra></extra>\", \"legendgroup\": \"red\", \"marker\": {\"color\": \"#636efa\", \"symbol\": \"circle\"}, \"mode\": \"markers\", \"name\": \"red\", \"orientation\": \"v\", \"showlegend\": true, \"type\": \"scatter\", \"x\": [434.55751371019477, 438.934136212734, 419.90453774636, 492.31641190754, 404.01780054047015, 135.20651640033077, 76.43408294214038, 353.06990207008164, 366.6811613734512, 145.59642688419657, 314.04026011357934, 16.355147337662135, 424.5626355561188, 172.9960448855888, 476.8481791032582, 9.151688287125868, 75.31440348436664, 149.03070133546439, 205.395164650859, 16.20310780180001, 1.6427669520882038, 68.01981026325987, 275.344710961698, 199.06883062851196, 400.40342331580706, 294.2144788327755, 404.5462234154833, 475.46301903677255, 291.29756057409304, 63.424316825181855], \"xaxis\": \"x\", \"y\": [109.36064277774466, 55.95735794900907, 369.1159692686163, 491.3927390873703, 34.286601741833785, 316.6157031813405, 265.5907432464507, 430.73261675172614, 60.99739655005153, 189.8583139661716, 304.39566027156826, 400.09145406755584, 70.89943133703758, 198.6847865725222, 179.48252978440414, 250.78207193262628, 430.81243126591187, 413.83768817585985, 276.22183151368324, 471.4185727690705, 154.6045405211059, 182.1489173971974, 101.51550150251032, 121.37445607817648, 44.976967759804815, 384.5840894190522, 17.785078725646166, 202.3047727105588, 325.37924405603377, 192.17782462920928], \"yaxis\": \"y\"}, {\"hovertemplate\": \"color=green<br>intial=1<br>x=%{x}<br>y=%{y}<extra></extra>\", \"legendgroup\": \"green\", \"marker\": {\"color\": \"#EF553B\", \"symbol\": \"circle\"}, \"mode\": \"markers\", \"name\": \"green\", \"orientation\": \"v\", \"showlegend\": true, \"type\": \"scatter\", \"x\": [104.20928384906874, 197.45650453002045, 1.2673484583733408, 133.55354658127578, 187.87410883221213, 263.8216233527437, 92.32633220423908, 36.05695577692508, 238.78424978295962, 15.547806139596775, 93.09094443995569, 381.53962632414436, 134.3486308145409, 370.3131490243602, 381.8351595981522, 395.94675451757723, 87.3803483648762, 410.7441644190258, 4.250556647049764, 374.5355743859543, 446.2929603855296, 385.9204024973217, 131.08575300066715, 209.4484421767524, 250.52492723417362, 452.03645687911165, 29.59542632523349, 474.5961230905788, 407.53419780455147, 284.37238651357865], \"xaxis\": \"x\", \"y\": [448.90043797430536, 257.4725849775301, 322.8359508806838, 115.3332715735205, 134.40669389692772, 436.76382681064115, 99.03644773076492, 46.39683168034886, 448.18607191014155, 466.3252762917248, 15.503517136157274, 22.925982873215734, 400.3732370778019, 361.5987790169701, 275.3846281417486, 190.98489367857889, 333.12519974507194, 302.38009015926633, 326.355470932698, 295.50554398883395, 438.73550735083575, 54.37370965175364, 201.3683556690127, 389.0690491359697, 166.6925157846014, 245.07176095355481, 246.66442491392345, 390.137035595907, 117.93499204266195, 318.4083561297176], \"yaxis\": \"y\"}, {\"hovertemplate\": \"color=blue<br>intial=1<br>x=%{x}<br>y=%{y}<extra></extra>\", \"legendgroup\": \"blue\", \"marker\": {\"color\": \"#00cc96\", \"symbol\": \"circle\"}, \"mode\": \"markers\", \"name\": \"blue\", \"orientation\": \"v\", \"showlegend\": true, \"type\": \"scatter\", \"x\": [389.99345549068437, 249.35877190642964, 292.99024137927836, 324.0055568785401, 173.99026936940166, 287.11302973746945, 67.51263314881234, 276.77239636801164, 59.75465989430728, 469.58446073825485, 240.7580431588994, 227.8814595509726, 211.97324738462157, 420.96423928048205, 395.6229048037571, 364.84358296944674, 183.74633439085684, 104.34213797760216, 473.01425497446564, 340.27310208090864, 422.8072647869326, 131.8592470246362, 213.7969518433474, 489.9300865335125, 490.0592872062882, 414.8182502080759, 477.1330215811223, 460.1641100598762, 210.7477910553088, 290.31986816586533], \"xaxis\": \"x\", \"y\": [402.9870614918566, 343.35496511066964, 100.18774132742986, 40.70011620714242, 173.73023707794258, 487.414215972548, 376.41582568761686, 209.84866823469955, 205.21287420012214, 70.53979794123597, 136.57328794984966, 355.56087755755783, 337.55892562561286, 201.5601303134281, 232.03400517413417, 279.603893607315, 431.3055768157842, 391.70725731995964, 392.60180992357283, 66.31059098190029, 261.71256960346517, 187.9117047546546, 243.4869066237743, 75.07404368759623, 340.1490150780134, 403.21422223280223, 167.74955673727248, 333.5307873733313, 415.1987717160697, 24.273453247350307], \"yaxis\": \"y\"}],\n",
       "                        {\"legend\": {\"title\": {\"text\": \"color\"}, \"tracegroupgap\": 0}, \"margin\": {\"t\": 60}, \"sliders\": [{\"active\": 0, \"currentvalue\": {\"prefix\": \"intial=\"}, \"len\": 0.9, \"pad\": {\"b\": 10, \"t\": 60}, \"steps\": [{\"args\": [[\"1\"], {\"frame\": {\"duration\": 0, \"redraw\": false}, \"fromcurrent\": true, \"mode\": \"immediate\", \"transition\": {\"duration\": 0, \"easing\": \"linear\"}}], \"label\": \"1\", \"method\": \"animate\"}, {\"args\": [[\"0\"], {\"frame\": {\"duration\": 0, \"redraw\": false}, \"fromcurrent\": true, \"mode\": \"immediate\", \"transition\": {\"duration\": 0, \"easing\": \"linear\"}}], \"label\": \"0\", \"method\": \"animate\"}], \"x\": 0.1, \"xanchor\": \"left\", \"y\": 0, \"yanchor\": \"top\"}], \"template\": {\"data\": {\"bar\": [{\"error_x\": {\"color\": \"#2a3f5f\"}, \"error_y\": {\"color\": \"#2a3f5f\"}, \"marker\": {\"line\": {\"color\": \"#E5ECF6\", \"width\": 0.5}}, \"type\": \"bar\"}], \"barpolar\": [{\"marker\": {\"line\": {\"color\": \"#E5ECF6\", \"width\": 0.5}}, \"type\": \"barpolar\"}], \"carpet\": [{\"aaxis\": {\"endlinecolor\": \"#2a3f5f\", \"gridcolor\": \"white\", \"linecolor\": \"white\", \"minorgridcolor\": \"white\", \"startlinecolor\": \"#2a3f5f\"}, \"baxis\": {\"endlinecolor\": \"#2a3f5f\", \"gridcolor\": \"white\", \"linecolor\": \"white\", \"minorgridcolor\": \"white\", \"startlinecolor\": \"#2a3f5f\"}, \"type\": \"carpet\"}], \"choropleth\": [{\"colorbar\": {\"outlinewidth\": 0, \"ticks\": \"\"}, \"type\": \"choropleth\"}], \"contour\": [{\"colorbar\": {\"outlinewidth\": 0, \"ticks\": \"\"}, \"colorscale\": [[0.0, \"#0d0887\"], [0.1111111111111111, \"#46039f\"], [0.2222222222222222, \"#7201a8\"], [0.3333333333333333, \"#9c179e\"], [0.4444444444444444, \"#bd3786\"], [0.5555555555555556, \"#d8576b\"], [0.6666666666666666, \"#ed7953\"], [0.7777777777777778, \"#fb9f3a\"], [0.8888888888888888, \"#fdca26\"], [1.0, \"#f0f921\"]], \"type\": \"contour\"}], \"contourcarpet\": [{\"colorbar\": {\"outlinewidth\": 0, \"ticks\": \"\"}, \"type\": \"contourcarpet\"}], \"heatmap\": [{\"colorbar\": {\"outlinewidth\": 0, \"ticks\": \"\"}, \"colorscale\": [[0.0, \"#0d0887\"], [0.1111111111111111, \"#46039f\"], [0.2222222222222222, \"#7201a8\"], [0.3333333333333333, \"#9c179e\"], [0.4444444444444444, \"#bd3786\"], [0.5555555555555556, \"#d8576b\"], [0.6666666666666666, \"#ed7953\"], [0.7777777777777778, \"#fb9f3a\"], [0.8888888888888888, \"#fdca26\"], [1.0, \"#f0f921\"]], \"type\": \"heatmap\"}], \"heatmapgl\": [{\"colorbar\": {\"outlinewidth\": 0, \"ticks\": \"\"}, \"colorscale\": [[0.0, \"#0d0887\"], [0.1111111111111111, \"#46039f\"], [0.2222222222222222, \"#7201a8\"], [0.3333333333333333, \"#9c179e\"], [0.4444444444444444, \"#bd3786\"], [0.5555555555555556, \"#d8576b\"], [0.6666666666666666, \"#ed7953\"], [0.7777777777777778, \"#fb9f3a\"], [0.8888888888888888, \"#fdca26\"], [1.0, \"#f0f921\"]], \"type\": \"heatmapgl\"}], \"histogram\": [{\"marker\": {\"colorbar\": {\"outlinewidth\": 0, \"ticks\": \"\"}}, \"type\": \"histogram\"}], \"histogram2d\": [{\"colorbar\": {\"outlinewidth\": 0, \"ticks\": \"\"}, \"colorscale\": [[0.0, \"#0d0887\"], [0.1111111111111111, \"#46039f\"], [0.2222222222222222, \"#7201a8\"], [0.3333333333333333, \"#9c179e\"], [0.4444444444444444, \"#bd3786\"], [0.5555555555555556, \"#d8576b\"], [0.6666666666666666, \"#ed7953\"], [0.7777777777777778, \"#fb9f3a\"], [0.8888888888888888, \"#fdca26\"], [1.0, \"#f0f921\"]], \"type\": \"histogram2d\"}], \"histogram2dcontour\": [{\"colorbar\": {\"outlinewidth\": 0, \"ticks\": \"\"}, \"colorscale\": [[0.0, \"#0d0887\"], [0.1111111111111111, \"#46039f\"], [0.2222222222222222, \"#7201a8\"], [0.3333333333333333, \"#9c179e\"], [0.4444444444444444, \"#bd3786\"], [0.5555555555555556, \"#d8576b\"], [0.6666666666666666, \"#ed7953\"], [0.7777777777777778, \"#fb9f3a\"], [0.8888888888888888, \"#fdca26\"], [1.0, \"#f0f921\"]], \"type\": \"histogram2dcontour\"}], \"mesh3d\": [{\"colorbar\": {\"outlinewidth\": 0, \"ticks\": \"\"}, \"type\": \"mesh3d\"}], \"parcoords\": [{\"line\": {\"colorbar\": {\"outlinewidth\": 0, \"ticks\": \"\"}}, \"type\": \"parcoords\"}], \"pie\": [{\"automargin\": true, \"type\": \"pie\"}], \"scatter\": [{\"marker\": {\"colorbar\": {\"outlinewidth\": 0, \"ticks\": \"\"}}, \"type\": \"scatter\"}], \"scatter3d\": [{\"line\": {\"colorbar\": {\"outlinewidth\": 0, \"ticks\": \"\"}}, \"marker\": {\"colorbar\": {\"outlinewidth\": 0, \"ticks\": \"\"}}, \"type\": \"scatter3d\"}], \"scattercarpet\": [{\"marker\": {\"colorbar\": {\"outlinewidth\": 0, \"ticks\": \"\"}}, \"type\": \"scattercarpet\"}], \"scattergeo\": [{\"marker\": {\"colorbar\": {\"outlinewidth\": 0, \"ticks\": \"\"}}, \"type\": \"scattergeo\"}], \"scattergl\": [{\"marker\": {\"colorbar\": {\"outlinewidth\": 0, \"ticks\": \"\"}}, \"type\": \"scattergl\"}], \"scattermapbox\": [{\"marker\": {\"colorbar\": {\"outlinewidth\": 0, \"ticks\": \"\"}}, \"type\": \"scattermapbox\"}], \"scatterpolar\": [{\"marker\": {\"colorbar\": {\"outlinewidth\": 0, \"ticks\": \"\"}}, \"type\": \"scatterpolar\"}], \"scatterpolargl\": [{\"marker\": {\"colorbar\": {\"outlinewidth\": 0, \"ticks\": \"\"}}, \"type\": \"scatterpolargl\"}], \"scatterternary\": [{\"marker\": {\"colorbar\": {\"outlinewidth\": 0, \"ticks\": \"\"}}, \"type\": \"scatterternary\"}], \"surface\": [{\"colorbar\": {\"outlinewidth\": 0, \"ticks\": \"\"}, \"colorscale\": [[0.0, \"#0d0887\"], [0.1111111111111111, \"#46039f\"], [0.2222222222222222, \"#7201a8\"], [0.3333333333333333, \"#9c179e\"], [0.4444444444444444, \"#bd3786\"], [0.5555555555555556, \"#d8576b\"], [0.6666666666666666, \"#ed7953\"], [0.7777777777777778, \"#fb9f3a\"], [0.8888888888888888, \"#fdca26\"], [1.0, \"#f0f921\"]], \"type\": \"surface\"}], \"table\": [{\"cells\": {\"fill\": {\"color\": \"#EBF0F8\"}, \"line\": {\"color\": \"white\"}}, \"header\": {\"fill\": {\"color\": \"#C8D4E3\"}, \"line\": {\"color\": \"white\"}}, \"type\": \"table\"}]}, \"layout\": {\"annotationdefaults\": {\"arrowcolor\": \"#2a3f5f\", \"arrowhead\": 0, \"arrowwidth\": 1}, \"coloraxis\": {\"colorbar\": {\"outlinewidth\": 0, \"ticks\": \"\"}}, \"colorscale\": {\"diverging\": [[0, \"#8e0152\"], [0.1, \"#c51b7d\"], [0.2, \"#de77ae\"], [0.3, \"#f1b6da\"], [0.4, \"#fde0ef\"], [0.5, \"#f7f7f7\"], [0.6, \"#e6f5d0\"], [0.7, \"#b8e186\"], [0.8, \"#7fbc41\"], [0.9, \"#4d9221\"], [1, \"#276419\"]], \"sequential\": [[0.0, \"#0d0887\"], [0.1111111111111111, \"#46039f\"], [0.2222222222222222, \"#7201a8\"], [0.3333333333333333, \"#9c179e\"], [0.4444444444444444, \"#bd3786\"], [0.5555555555555556, \"#d8576b\"], [0.6666666666666666, \"#ed7953\"], [0.7777777777777778, \"#fb9f3a\"], [0.8888888888888888, \"#fdca26\"], [1.0, \"#f0f921\"]], \"sequentialminus\": [[0.0, \"#0d0887\"], [0.1111111111111111, \"#46039f\"], [0.2222222222222222, \"#7201a8\"], [0.3333333333333333, \"#9c179e\"], [0.4444444444444444, \"#bd3786\"], [0.5555555555555556, \"#d8576b\"], [0.6666666666666666, \"#ed7953\"], [0.7777777777777778, \"#fb9f3a\"], [0.8888888888888888, \"#fdca26\"], [1.0, \"#f0f921\"]]}, \"colorway\": [\"#636efa\", \"#EF553B\", \"#00cc96\", \"#ab63fa\", \"#FFA15A\", \"#19d3f3\", \"#FF6692\", \"#B6E880\", \"#FF97FF\", \"#FECB52\"], \"font\": {\"color\": \"#2a3f5f\"}, \"geo\": {\"bgcolor\": \"white\", \"lakecolor\": \"white\", \"landcolor\": \"#E5ECF6\", \"showlakes\": true, \"showland\": true, \"subunitcolor\": \"white\"}, \"hoverlabel\": {\"align\": \"left\"}, \"hovermode\": \"closest\", \"mapbox\": {\"style\": \"light\"}, \"paper_bgcolor\": \"white\", \"plot_bgcolor\": \"#E5ECF6\", \"polar\": {\"angularaxis\": {\"gridcolor\": \"white\", \"linecolor\": \"white\", \"ticks\": \"\"}, \"bgcolor\": \"#E5ECF6\", \"radialaxis\": {\"gridcolor\": \"white\", \"linecolor\": \"white\", \"ticks\": \"\"}}, \"scene\": {\"xaxis\": {\"backgroundcolor\": \"#E5ECF6\", \"gridcolor\": \"white\", \"gridwidth\": 2, \"linecolor\": \"white\", \"showbackground\": true, \"ticks\": \"\", \"zerolinecolor\": \"white\"}, \"yaxis\": {\"backgroundcolor\": \"#E5ECF6\", \"gridcolor\": \"white\", \"gridwidth\": 2, \"linecolor\": \"white\", \"showbackground\": true, \"ticks\": \"\", \"zerolinecolor\": \"white\"}, \"zaxis\": {\"backgroundcolor\": \"#E5ECF6\", \"gridcolor\": \"white\", \"gridwidth\": 2, \"linecolor\": \"white\", \"showbackground\": true, \"ticks\": \"\", \"zerolinecolor\": \"white\"}}, \"shapedefaults\": {\"line\": {\"color\": \"#2a3f5f\"}}, \"ternary\": {\"aaxis\": {\"gridcolor\": \"white\", \"linecolor\": \"white\", \"ticks\": \"\"}, \"baxis\": {\"gridcolor\": \"white\", \"linecolor\": \"white\", \"ticks\": \"\"}, \"bgcolor\": \"#E5ECF6\", \"caxis\": {\"gridcolor\": \"white\", \"linecolor\": \"white\", \"ticks\": \"\"}}, \"title\": {\"x\": 0.05}, \"xaxis\": {\"automargin\": true, \"gridcolor\": \"white\", \"linecolor\": \"white\", \"ticks\": \"\", \"title\": {\"standoff\": 15}, \"zerolinecolor\": \"white\", \"zerolinewidth\": 2}, \"yaxis\": {\"automargin\": true, \"gridcolor\": \"white\", \"linecolor\": \"white\", \"ticks\": \"\", \"title\": {\"standoff\": 15}, \"zerolinecolor\": \"white\", \"zerolinewidth\": 2}}}, \"updatemenus\": [{\"buttons\": [{\"args\": [null, {\"frame\": {\"duration\": 500, \"redraw\": false}, \"fromcurrent\": true, \"mode\": \"immediate\", \"transition\": {\"duration\": 500, \"easing\": \"linear\"}}], \"label\": \"&#9654;\", \"method\": \"animate\"}, {\"args\": [[null], {\"frame\": {\"duration\": 0, \"redraw\": false}, \"fromcurrent\": true, \"mode\": \"immediate\", \"transition\": {\"duration\": 0, \"easing\": \"linear\"}}], \"label\": \"&#9724;\", \"method\": \"animate\"}], \"direction\": \"left\", \"pad\": {\"r\": 10, \"t\": 70}, \"showactive\": false, \"type\": \"buttons\", \"x\": 0.1, \"xanchor\": \"right\", \"y\": 0, \"yanchor\": \"top\"}], \"xaxis\": {\"anchor\": \"y\", \"domain\": [0.0, 1.0], \"title\": {\"text\": \"x\"}}, \"yaxis\": {\"anchor\": \"x\", \"domain\": [0.0, 1.0], \"title\": {\"text\": \"y\"}}},\n",
       "                        {\"responsive\": true}\n",
       "                    ).then(function(){\n",
       "                            Plotly.addFrames('995da757-478d-49f3-ba36-951a82717865', [{\"data\": [{\"hovertemplate\": \"color=red<br>intial=1<br>x=%{x}<br>y=%{y}<extra></extra>\", \"legendgroup\": \"red\", \"marker\": {\"color\": \"#636efa\", \"symbol\": \"circle\"}, \"mode\": \"markers\", \"name\": \"red\", \"orientation\": \"v\", \"showlegend\": true, \"x\": [434.55751371019477, 438.934136212734, 419.90453774636, 492.31641190754, 404.01780054047015, 135.20651640033077, 76.43408294214038, 353.06990207008164, 366.6811613734512, 145.59642688419657, 314.04026011357934, 16.355147337662135, 424.5626355561188, 172.9960448855888, 476.8481791032582, 9.151688287125868, 75.31440348436664, 149.03070133546439, 205.395164650859, 16.20310780180001, 1.6427669520882038, 68.01981026325987, 275.344710961698, 199.06883062851196, 400.40342331580706, 294.2144788327755, 404.5462234154833, 475.46301903677255, 291.29756057409304, 63.424316825181855], \"xaxis\": \"x\", \"y\": [109.36064277774466, 55.95735794900907, 369.1159692686163, 491.3927390873703, 34.286601741833785, 316.6157031813405, 265.5907432464507, 430.73261675172614, 60.99739655005153, 189.8583139661716, 304.39566027156826, 400.09145406755584, 70.89943133703758, 198.6847865725222, 179.48252978440414, 250.78207193262628, 430.81243126591187, 413.83768817585985, 276.22183151368324, 471.4185727690705, 154.6045405211059, 182.1489173971974, 101.51550150251032, 121.37445607817648, 44.976967759804815, 384.5840894190522, 17.785078725646166, 202.3047727105588, 325.37924405603377, 192.17782462920928], \"yaxis\": \"y\", \"type\": \"scatter\"}, {\"hovertemplate\": \"color=green<br>intial=1<br>x=%{x}<br>y=%{y}<extra></extra>\", \"legendgroup\": \"green\", \"marker\": {\"color\": \"#EF553B\", \"symbol\": \"circle\"}, \"mode\": \"markers\", \"name\": \"green\", \"orientation\": \"v\", \"showlegend\": true, \"x\": [104.20928384906874, 197.45650453002045, 1.2673484583733408, 133.55354658127578, 187.87410883221213, 263.8216233527437, 92.32633220423908, 36.05695577692508, 238.78424978295962, 15.547806139596775, 93.09094443995569, 381.53962632414436, 134.3486308145409, 370.3131490243602, 381.8351595981522, 395.94675451757723, 87.3803483648762, 410.7441644190258, 4.250556647049764, 374.5355743859543, 446.2929603855296, 385.9204024973217, 131.08575300066715, 209.4484421767524, 250.52492723417362, 452.03645687911165, 29.59542632523349, 474.5961230905788, 407.53419780455147, 284.37238651357865], \"xaxis\": \"x\", \"y\": [448.90043797430536, 257.4725849775301, 322.8359508806838, 115.3332715735205, 134.40669389692772, 436.76382681064115, 99.03644773076492, 46.39683168034886, 448.18607191014155, 466.3252762917248, 15.503517136157274, 22.925982873215734, 400.3732370778019, 361.5987790169701, 275.3846281417486, 190.98489367857889, 333.12519974507194, 302.38009015926633, 326.355470932698, 295.50554398883395, 438.73550735083575, 54.37370965175364, 201.3683556690127, 389.0690491359697, 166.6925157846014, 245.07176095355481, 246.66442491392345, 390.137035595907, 117.93499204266195, 318.4083561297176], \"yaxis\": \"y\", \"type\": \"scatter\"}, {\"hovertemplate\": \"color=blue<br>intial=1<br>x=%{x}<br>y=%{y}<extra></extra>\", \"legendgroup\": \"blue\", \"marker\": {\"color\": \"#00cc96\", \"symbol\": \"circle\"}, \"mode\": \"markers\", \"name\": \"blue\", \"orientation\": \"v\", \"showlegend\": true, \"x\": [389.99345549068437, 249.35877190642964, 292.99024137927836, 324.0055568785401, 173.99026936940166, 287.11302973746945, 67.51263314881234, 276.77239636801164, 59.75465989430728, 469.58446073825485, 240.7580431588994, 227.8814595509726, 211.97324738462157, 420.96423928048205, 395.6229048037571, 364.84358296944674, 183.74633439085684, 104.34213797760216, 473.01425497446564, 340.27310208090864, 422.8072647869326, 131.8592470246362, 213.7969518433474, 489.9300865335125, 490.0592872062882, 414.8182502080759, 477.1330215811223, 460.1641100598762, 210.7477910553088, 290.31986816586533], \"xaxis\": \"x\", \"y\": [402.9870614918566, 343.35496511066964, 100.18774132742986, 40.70011620714242, 173.73023707794258, 487.414215972548, 376.41582568761686, 209.84866823469955, 205.21287420012214, 70.53979794123597, 136.57328794984966, 355.56087755755783, 337.55892562561286, 201.5601303134281, 232.03400517413417, 279.603893607315, 431.3055768157842, 391.70725731995964, 392.60180992357283, 66.31059098190029, 261.71256960346517, 187.9117047546546, 243.4869066237743, 75.07404368759623, 340.1490150780134, 403.21422223280223, 167.74955673727248, 333.5307873733313, 415.1987717160697, 24.273453247350307], \"yaxis\": \"y\", \"type\": \"scatter\"}], \"name\": \"1\"}, {\"data\": [{\"hovertemplate\": \"color=red<br>intial=0<br>x=%{x}<br>y=%{y}<extra></extra>\", \"legendgroup\": \"red\", \"marker\": {\"color\": \"#636efa\", \"symbol\": \"circle\"}, \"mode\": \"markers\", \"name\": \"red\", \"orientation\": \"v\", \"showlegend\": true, \"x\": [171.36305145599832, 182.8909026601121, 144.2885557461066, 170.04975633076566, 181.777689320059, 154.6404977893314, 172.1955609914016, 160.08140705574297, 179.7578317983617, 142.919023074974, 213.0727175617316, 149.3466941985945, 166.09376036653245, 161.658642978131, 180.88518921787647, 181.8107826798447, 186.1150797054459, 205.33817851170383, 154.85496148836398, 174.75143976043174, 176.1055854257733, 181.89675587226427, 151.5701268215669, 174.46339721268745, 168.15766712015002, 176.1022108019683, 175.37049869445522, 199.35721767489486, 154.21001042247926, 205.26424796444385], \"xaxis\": \"x\", \"y\": [90.75584668916012, 84.1896066497078, 112.12184474773792, 116.74726615961323, 97.93840664961658, 104.02750275651955, 86.56590016261661, 106.34273632022268, 112.80106451084309, 113.04824126792809, 59.386767170530256, 106.10932283309396, 102.67390108356308, 110.43346092247242, 107.42325016129485, 96.30033742380958, 119.5110160447247, 104.4038560207679, 145.01868752328159, 60.72706173856358, 83.66906400139905, 97.835562279214, 93.2484444136512, 107.17445860631041, 113.62329497033896, 105.99568137761351, 97.0551928335592, 79.4324614192561, 96.73176023955557, 85.18970242949561], \"yaxis\": \"y\", \"type\": \"scatter\"}, {\"hovertemplate\": \"color=green<br>intial=0<br>x=%{x}<br>y=%{y}<extra></extra>\", \"legendgroup\": \"green\", \"marker\": {\"color\": \"#EF553B\", \"symbol\": \"circle\"}, \"mode\": \"markers\", \"name\": \"green\", \"orientation\": \"v\", \"showlegend\": true, \"x\": [338.515162590575, 301.75663044274836, 279.8278967010393, 327.23430560364983, 295.37012964756264, 332.9711076906101, 311.36263928688714, 328.0405751895687, 317.67365492555786, 334.89880107541376, 337.639930338434, 315.6740535797863, 344.5445501130185, 337.00669188462604, 342.682671445092, 316.07576189968836, 339.5826248232415, 310.26541371470506, 312.27460040777044, 357.96155828815284, 336.9949033978265, 341.4716879702023, 315.6149840460731, 351.85873209260063, 317.5303176603673, 333.2321713527934, 295.01509218068287, 310.01469037793726, 351.0723018636541, 314.1289396454004], \"xaxis\": \"x\", \"y\": [224.86035596607186, 223.221163418267, 197.9557160667931, 255.93232536195598, 214.48537323066242, 251.35538297180503, 229.95081868939343, 250.1196723074273, 227.89194135533276, 226.97419906119976, 211.4453536178937, 217.6642513181342, 200.00196517027786, 242.92811322188442, 238.4417183842289, 216.20331880568418, 246.3447542337889, 229.1326576273109, 191.0097281545669, 232.27542756107465, 259.51325471414407, 201.3804794068146, 220.49650692135867, 245.56824891509387, 225.20643806671558, 226.0874507015087, 194.8695355706552, 209.59200707541237, 219.32177892327343, 223.86231709191773], \"yaxis\": \"y\", \"type\": \"scatter\"}, {\"hovertemplate\": \"color=blue<br>intial=0<br>x=%{x}<br>y=%{y}<extra></extra>\", \"legendgroup\": \"blue\", \"marker\": {\"color\": \"#00cc96\", \"symbol\": \"circle\"}, \"mode\": \"markers\", \"name\": \"blue\", \"orientation\": \"v\", \"showlegend\": true, \"x\": [144.8466066985989, 125.15385180358182, 116.24937081600063, 161.04880587813562, 143.0892810879779, 128.02239164550275, 165.7166488675584, 137.32629834956057, 117.59284806415651, 137.59903786965106, 136.69964690094636, 103.09562841723415, 100.93690168009128, 101.01580853903258, 99.51243912114737, 107.80242593318808, 127.08414791285904, 163.91273130923838, 124.10982572043359, 128.97725975495507, 138.37372455427266, 162.7882268003007, 124.54083039297836, 97.89390785294714, 89.11589096602802, 149.8686982543653, 108.1781180270076, 130.64662308700736, 91.98403273142249, 119.71619543917214], \"xaxis\": \"x\", \"y\": [278.953089018564, 310.99044591232143, 300.18822736988164, 327.95592607094426, 281.0914330077054, 284.23817234676693, 306.94120819938587, 334.0471234082148, 315.34819875906504, 340.53298769523127, 302.5938916079953, 332.5097215783313, 322.0355997015, 323.20372337085803, 317.54531697960056, 336.97011206313107, 294.48766621773257, 297.2236164280178, 295.84872722280954, 311.394278023762, 323.39535982286543, 289.8241459700507, 306.48816268112165, 284.3088986586671, 289.8945248480923, 298.8023407282143, 322.5768223512296, 293.64443800718675, 304.09224097284283, 320.8286498685931], \"yaxis\": \"y\", \"type\": \"scatter\"}], \"name\": \"0\"}]);\n",
       "                        }).then(function(){\n",
       "                            \n",
       "var gd = document.getElementById('995da757-478d-49f3-ba36-951a82717865');\n",
       "var x = new MutationObserver(function (mutations, observer) {{\n",
       "        var display = window.getComputedStyle(gd).display;\n",
       "        if (!display || display === 'none') {{\n",
       "            console.log([gd, 'removed!']);\n",
       "            Plotly.purge(gd);\n",
       "            observer.disconnect();\n",
       "        }}\n",
       "}});\n",
       "\n",
       "// Listen for the removal of the full notebook cells\n",
       "var notebookContainer = gd.closest('#notebook-container');\n",
       "if (notebookContainer) {{\n",
       "    x.observe(notebookContainer, {childList: true});\n",
       "}}\n",
       "\n",
       "// Listen for the clearing of the current output cell\n",
       "var outputEl = gd.closest('.output');\n",
       "if (outputEl) {{\n",
       "    x.observe(outputEl, {childList: true});\n",
       "}}\n",
       "\n",
       "                        })\n",
       "                };\n",
       "                });\n",
       "            </script>\n",
       "        </div>"
      ]
     },
     "metadata": {},
     "output_type": "display_data"
    }
   ],
   "source": [
    "import plotly.express as px\n",
    "df = px.data.gapminder()\n",
    "px.scatter(tidy_df, x=\"x\", y=\"y\", animation_frame=\"intial\", color=\"color\")"
   ]
  },
  {
   "cell_type": "code",
   "execution_count": null,
   "metadata": {},
   "outputs": [],
   "source": []
  },
  {
   "cell_type": "code",
   "execution_count": null,
   "metadata": {},
   "outputs": [],
   "source": []
  },
  {
   "cell_type": "code",
   "execution_count": null,
   "metadata": {},
   "outputs": [],
   "source": []
  },
  {
   "cell_type": "code",
   "execution_count": null,
   "metadata": {},
   "outputs": [],
   "source": []
  }
 ],
 "metadata": {
  "kernelspec": {
   "display_name": "Python 3",
   "language": "python",
   "name": "python3"
  },
  "language_info": {
   "codemirror_mode": {
    "name": "ipython",
    "version": 3
   },
   "file_extension": ".py",
   "mimetype": "text/x-python",
   "name": "python",
   "nbconvert_exporter": "python",
   "pygments_lexer": "ipython3",
   "version": "3.8.5"
  }
 },
 "nbformat": 4,
 "nbformat_minor": 4
}
